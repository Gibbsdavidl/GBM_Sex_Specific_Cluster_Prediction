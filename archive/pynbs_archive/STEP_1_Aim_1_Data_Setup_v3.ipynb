{
 "cells": [
  {
   "cell_type": "code",
   "execution_count": 1,
   "id": "9da973e2-cf25-43d7-b95f-fa5a50024045",
   "metadata": {},
   "outputs": [],
   "source": [
    "# data prep #\n",
    "#install.packages('rstatix')"
   ]
  },
  {
   "cell_type": "code",
   "execution_count": 6,
   "id": "842a9589-d279-4a2f-82c2-ad23e1193d34",
   "metadata": {},
   "outputs": [
    {
     "ename": "ERROR",
     "evalue": "Error in library(bigrquery): there is no package called ‘bigrquery’\n",
     "output_type": "error",
     "traceback": [
      "Error in library(bigrquery): there is no package called ‘bigrquery’\nTraceback:\n",
      "1. library(bigrquery)"
     ]
    }
   ],
   "source": [
    "library(tidyverse)\n",
    "library(bigrquery)\n",
    "library(rstatix)\n",
    "# bq_auth(use_oob = TRUE, cache = FALSE)"
   ]
  },
  {
   "cell_type": "code",
   "execution_count": 7,
   "id": "fd17a64c-9b78-4308-b81d-8c33c4d470c5",
   "metadata": {},
   "outputs": [
    {
     "ename": "ERROR",
     "evalue": "Error in loadNamespace(x): there is no package called ‘openxlsx’\n",
     "output_type": "error",
     "traceback": [
      "Error in loadNamespace(x): there is no package called ‘openxlsx’\nTraceback:\n",
      "1. loadNamespace(x)",
      "2. withRestarts(stop(cond), retry_loadNamespace = function() NULL)",
      "3. withOneRestart(expr, restarts[[1L]])",
      "4. doWithOneRestart(return(expr), restart)"
     ]
    }
   ],
   "source": [
    "## JIVE Paper Information\n",
    "\n",
    "# Male IDs\n",
    "male.jive.id.raw <- openxlsx::read.xlsx(\"data/aao5253_tables_s1_to_s12.xlsx\", sheet = \"Supplemental Table 2\", colNames = F, rows = 5:10)\n",
    "male.jive.id.list <- reshape2::melt(male.jive.id.raw[,-2], id = \"X1\") %>% rename(cluster.group = X1) %>% select(-variable) %>% filter(!is.na(value)) %>% arrange(cluster.group)\n",
    "\n",
    "# Female IDs\n",
    "female.jive.id.raw <- openxlsx::read.xlsx(\"data/aao5253_tables_s1_to_s12.xlsx\", sheet = \"Supplemental Table 2\", colNames = F, rows = 21:25)\n",
    "female.jive.id.list <- reshape2::melt(female.jive.id.raw[,-2], id = \"X1\") %>% rename(cluster.group = X1) %>% select(-variable) %>% filter(!is.na(value)) %>% arrange(cluster.group)\n",
    "\n",
    "# Male Gene List\n",
    "male.jive.gene.raw <- openxlsx::read.xlsx(\"data/aao5253_tables_s1_to_s12.xlsx\", sheet = \"Supplemental Table 2\", colNames = F, rows = 12:16)\n",
    "male.jive.gene.list <- reshape2::melt(male.jive.gene.raw[,-2], id = \"X1\") %>% rename(cluster.group = X1) %>% select(-variable) %>% filter(!is.na(value)) %>% arrange(cluster.group)\n",
    "\n",
    "# Female Gene List\n",
    "female.jive.gene.raw <- openxlsx::read.xlsx(\"data/aao5253_tables_s1_to_s12.xlsx\", sheet = \"Supplemental Table 2\", colNames = F, rows = 28:32)\n",
    "female.jive.gene.list <- reshape2::melt(female.jive.gene.raw[,-2], id = \"X1\") %>% rename(cluster.group = X1) %>% select(-variable) %>% filter(!is.na(value)) %>% arrange(cluster.group)\n"
   ]
  },
  {
   "cell_type": "code",
   "execution_count": 5,
   "id": "a5f3adeb-e861-4550-9c96-8b07c1bdea67",
   "metadata": {},
   "outputs": [
    {
     "name": "stderr",
     "output_type": "stream",
     "text": [
      "\n",
      "\u001B[36m──\u001B[39m \u001B[1mColumn specification\u001B[22m \u001B[36m────────────────────────────────────────────────────────\u001B[39m\n",
      "cols(\n",
      "  NCBI_GeneID = \u001B[32mcol_double()\u001B[39m,\n",
      "  Symbol = \u001B[31mcol_character()\u001B[39m,\n",
      "  Gene_Type = \u001B[31mcol_character()\u001B[39m,\n",
      "  SwissProt_Accessions = \u001B[31mcol_character()\u001B[39m\n",
      ")\n",
      "\n",
      "Warning message:\n",
      "“16 parsing failures.\n",
      "  row col  expected    actual                                 file\n",
      " 8142  -- 4 columns 3 columns 'data/ncbi_gene_table_dec272022.tsv'\n",
      "12360  -- 4 columns 3 columns 'data/ncbi_gene_table_dec272022.tsv'\n",
      "14044  -- 4 columns 3 columns 'data/ncbi_gene_table_dec272022.tsv'\n",
      "15335  -- 4 columns 3 columns 'data/ncbi_gene_table_dec272022.tsv'\n",
      "15767  -- 4 columns 3 columns 'data/ncbi_gene_table_dec272022.tsv'\n",
      "..... ... ......... ......... ....................................\n",
      "See problems(...) for more details.\n",
      "”\n"
     ]
    },
    {
     "data": {
      "text/html": [
       "<style>\n",
       ".list-inline {list-style: none; margin:0; padding: 0}\n",
       ".list-inline>li {display: inline-block}\n",
       ".list-inline>li:not(:last-child)::after {content: \"\\00b7\"; padding: 0 .5ex}\n",
       "</style>\n",
       "<ol class=list-inline><li>19432</li><li>4</li></ol>\n"
      ],
      "text/latex": [
       "\\begin{enumerate*}\n",
       "\\item 19432\n",
       "\\item 4\n",
       "\\end{enumerate*}\n"
      ],
      "text/markdown": [
       "1. 19432\n",
       "2. 4\n",
       "\n",
       "\n"
      ],
      "text/plain": [
       "[1] 19432     4"
      ]
     },
     "metadata": {},
     "output_type": "display_data"
    }
   ],
   "source": [
    "# Filtering genes to those that code proteins\n",
    "gene_table <- read_table('data/ncbi_gene_table_dec272022.tsv')\n",
    "prot_coding <- gene_table %>% dplyr::filter(Gene_Type == 'PROTEIN_CODING')"
   ]
  },
  {
   "cell_type": "code",
   "execution_count": 4,
   "id": "a098abcf-a438-4213-8a5e-c55d1497ee05",
   "metadata": {},
   "outputs": [
    {
     "ename": "ERROR",
     "evalue": "Error in loadNamespace(x): there is no package called ‘janitor’\n",
     "output_type": "error",
     "traceback": [
      "Error in loadNamespace(x): there is no package called ‘janitor’\nTraceback:\n",
      "1. array.raw.2 %>% tibble::rownames_to_column(\"sample\") %>% janitor::row_to_names(row_number = 1)",
      "2. loadNamespace(x)",
      "3. withRestarts(stop(cond), retry_loadNamespace = function() NULL)",
      "4. withOneRestart(expr, restarts[[1L]])",
      "5. doWithOneRestart(return(expr), restart)"
     ]
    }
   ],
   "source": [
    "## Array data for training\n",
    "\n",
    "array.raw <- read_tsv('data/raw/TCGA.GBM.sampleMap_HT_HG-U133A.tsv.gz', show_col_types = FALSE)\n",
    "array.raw.2 <- as.data.frame(t(array.raw))\n",
    "array.data <- array.raw.2 %>% tibble::rownames_to_column(\"sample\") %>% janitor::row_to_names(row_number = 1)\n",
    "array.data[,2:(ncol(array.data))] <- lapply(array.data[,2:(ncol(array.data))],as.numeric)\n",
    "\n",
    "dim(array.data)\n"
   ]
  },
  {
   "cell_type": "code",
   "execution_count": 8,
   "id": "a151d52b-318f-459c-912c-16bec2568c2c",
   "metadata": {},
   "outputs": [],
   "source": [
    "## TCGA Query\n",
    "TCGA <- \"\n",
    "    SELECT gexp.case_id, gexp.gene_name, clin.demo__gender, clin.demo__vital_status, clin.demo__days_to_death, clin.diag__age_at_diagnosis,clin.demo__race,clin.demo__ethnicity,\n",
    "    AVG( LOG10(gexp.fpkm_uq_unstranded +1 ) ) as gene_exp\n",
    "    FROM gbm-gender.tcga_gbm.rnaseq_gencode36_hg38 as gexp\n",
    "    JOIN isb-cgc-bq.TCGA_versioned.clinical_gdc_r31 as clin\n",
    "    ON gexp.case_id = clin.submitter_id\n",
    "    WHERE gexp.sample_type = 'Primary Tumor'\n",
    "        AND gene_type = 'protein_coding'\n",
    "        AND primary_site = 'Brain'\n",
    "    GROUP BY gexp.case_id, gene_name, clin.demo__gender, clin.diag__age_at_diagnosis,demo__race,clin.demo__ethnicity, clin.demo__vital_status,clin.submitter_id, \n",
    "             clin.demo__days_to_death, clin.diag__days_to_last_follow_up,clin.exp__created_datetime\n",
    "    \""
   ]
  },
  {
   "cell_type": "code",
   "execution_count": 9,
   "id": "20c6ab7b-6f72-4ecf-a17c-094e5860d217",
   "metadata": {},
   "outputs": [],
   "source": [
    "tcga.import <- bq_project_query ('gbm-gender', query = TCGA) #Put data in temporary BQ table\n",
    "tcga_dwnld<- bq_table_download(tcga.import) #Put data into a dataframe\n",
    "\n",
    "rnaseq.data<-tcga_dwnld %>% \n",
    "     pivot_wider(id_cols = case_id, names_from = gene_name, values_from = gene_exp) %>% rename(sample = case_id)\n"
   ]
  },
  {
   "cell_type": "code",
   "execution_count": 3,
   "id": "ab57480b",
   "metadata": {
    "collapsed": false,
    "jupyter": {
     "outputs_hidden": false
    }
   },
   "outputs": [],
   "source": [
    "# TEMPUS DATA\n",
    "TEMPUS <- \"\n",
    "    SELECT gexp.case_id, clin.Sex, clin.Age_at_Diagnosis, clin.survival_status, clin.Survival_days, gexp.gene_name, AVG( LOG10(gexp.fpkm_uq_unstranded +1 ) ) as gene_exp\n",
    "        FROM `tempus_group_level.rnaseq_gencode36_hg38` as gexp\n",
    "        JOIN `tempus_group_level.clin` as clin\n",
    "        ON gexp.case_id = clin.Subject_ID\n",
    "            AND gexp.gene_type = 'protein_coding'\n",
    "    GROUP BY case_id, gene_name, clin.Sex, clin.Age_at_Diagnosis, clin.survival_status, clin.Survival_days\"\n",
    "\n",
    "tempus.import <- bq_project_query ('gbm-gender', query = TEMPUS) #Put data in temporary BQ table\n",
    "\n",
    "tempus_dwnld<- bq_table_download(tempus.import) #Put data into a dataframe\n",
    "\n",
    "write.table(tempus_dwnld, file = 'data/tempus_dwnld.csv', quote = F, row.names = F, sep = ',')"
   ]
  },
  {
   "cell_type": "code",
   "execution_count": 12,
   "id": "0a7a7497-746c-4152-84e8-23086e140ea1",
   "metadata": {},
   "outputs": [
    {
     "data": {
      "text/html": [
       "<style>\n",
       ".list-inline {list-style: none; margin:0; padding: 0}\n",
       ".list-inline>li {display: inline-block}\n",
       ".list-inline>li:not(:last-child)::after {content: \"\\00b7\"; padding: 0 .5ex}\n",
       "</style>\n",
       "<ol class=list-inline><li>154</li><li>19427</li></ol>\n"
      ],
      "text/latex": [
       "\\begin{enumerate*}\n",
       "\\item 154\n",
       "\\item 19427\n",
       "\\end{enumerate*}\n"
      ],
      "text/markdown": [
       "1. 154\n",
       "2. 19427\n",
       "\n",
       "\n"
      ],
      "text/plain": [
       "[1]   154 19427"
      ]
     },
     "metadata": {},
     "output_type": "display_data"
    },
    {
     "data": {
      "text/html": [
       "<style>\n",
       ".list-inline {list-style: none; margin:0; padding: 0}\n",
       ".list-inline>li {display: inline-block}\n",
       ".list-inline>li:not(:last-child)::after {content: \"\\00b7\"; padding: 0 .5ex}\n",
       "</style>\n",
       "<ol class=list-inline><li>154</li><li>19427</li></ol>\n"
      ],
      "text/latex": [
       "\\begin{enumerate*}\n",
       "\\item 154\n",
       "\\item 19427\n",
       "\\end{enumerate*}\n"
      ],
      "text/markdown": [
       "1. 154\n",
       "2. 19427\n",
       "\n",
       "\n"
      ],
      "text/plain": [
       "[1]   154 19427"
      ]
     },
     "metadata": {},
     "output_type": "display_data"
    }
   ],
   "source": [
    "### Preprocessing RNA-seq data\n",
    "### remove columns of all zeros\n",
    "idx <- which( apply( as.matrix(rnaseq.data[,2:ncol(rnaseq.data)]), 2, sum, na.rm=TRUE) > 0 )\n",
    "rnaseq.data <- rnaseq.data[, c(1, idx+1)]\n",
    "\n",
    "### remove columns with zero variance\n",
    "jdx <- which( apply(as.matrix(rnaseq.data[,2:ncol(rnaseq.data)]), 2, var, na.rm=TRUE) > 0 )\n",
    "rnaseq.data <- rnaseq.data[, c(1,jdx+1)]"
   ]
  },
  {
   "cell_type": "code",
   "execution_count": 14,
   "id": "c428536a-67fd-40d3-97be-940744e49d84",
   "metadata": {},
   "outputs": [
    {
     "data": {
      "text/html": [
       "<style>\n",
       ".list-inline {list-style: none; margin:0; padding: 0}\n",
       ".list-inline>li {display: inline-block}\n",
       ".list-inline>li:not(:last-child)::after {content: \"\\00b7\"; padding: 0 .5ex}\n",
       "</style>\n",
       "<ol class=list-inline><li>150</li><li>19939</li></ol>\n"
      ],
      "text/latex": [
       "\\begin{enumerate*}\n",
       "\\item 150\n",
       "\\item 19939\n",
       "\\end{enumerate*}\n"
      ],
      "text/markdown": [
       "1. 150\n",
       "2. 19939\n",
       "\n",
       "\n"
      ],
      "text/plain": [
       "[1]   150 19939"
      ]
     },
     "metadata": {},
     "output_type": "display_data"
    },
    {
     "data": {
      "text/html": [
       "<style>\n",
       ".list-inline {list-style: none; margin:0; padding: 0}\n",
       ".list-inline>li {display: inline-block}\n",
       ".list-inline>li:not(:last-child)::after {content: \"\\00b7\"; padding: 0 .5ex}\n",
       "</style>\n",
       "<ol class=list-inline><li>86</li><li>19939</li></ol>\n"
      ],
      "text/latex": [
       "\\begin{enumerate*}\n",
       "\\item 86\n",
       "\\item 19939\n",
       "\\end{enumerate*}\n"
      ],
      "text/markdown": [
       "1. 86\n",
       "2. 19939\n",
       "\n",
       "\n"
      ],
      "text/plain": [
       "[1]    86 19939"
      ]
     },
     "metadata": {},
     "output_type": "display_data"
    }
   ],
   "source": [
    "## Tempus Data Preprocessing\n",
    "tempus_dwnld<- read.csv(file = 'data/tempus_dwnld.csv', stringsAsFactors = F, header = T)\n",
    "\n",
    "tempus_males <-tempus_dwnld %>% filter(Sex == \"male\") %>%\n",
    "     pivot_wider(id_cols = case_id, names_from = gene_name, values_from = gene_exp) %>% rename(sample = case_id)\n",
    "\n",
    "tempus_females <-tempus_dwnld %>% filter(Sex == \"female\") %>%\n",
    "     pivot_wider(id_cols = case_id, names_from = gene_name, values_from = gene_exp) %>% rename(sample = case_id)\n",
    "\n",
    "dim(tempus_males)\n",
    "dim(tempus_females)"
   ]
  },
  {
   "cell_type": "code",
   "execution_count": 15,
   "id": "3717b1e7-0b77-4c3f-bf7e-f6385bd685ec",
   "metadata": {},
   "outputs": [],
   "source": [
    "# matching up genes between our data types\n",
    "col_intersection <- intersect(colnames(rnaseq.data),prot_coding$Symbol)\n",
    "col_intersection <- intersect(colnames(rnaseq.data),colnames(array.data)) #### this orginally said intersect(colnames(rnaseq.data),colnames(array.data))\n",
    "col_intersection <- intersect(col_intersection,colnames(tempus_males))\n",
    "# col_intersection <- c('sample',col_intersection)                              "
   ]
  },
  {
   "cell_type": "code",
   "execution_count": 16,
   "id": "3b7563ef-75cb-45a6-a190-6d574ec0c2c1",
   "metadata": {},
   "outputs": [
    {
     "data": {
      "text/html": [
       "<style>\n",
       ".list-inline {list-style: none; margin:0; padding: 0}\n",
       ".list-inline>li {display: inline-block}\n",
       ".list-inline>li:not(:last-child)::after {content: \"\\00b7\"; padding: 0 .5ex}\n",
       "</style>\n",
       "<ol class=list-inline><li>'sample'</li><li>'CSRP1'</li><li>'HCFC1R1'</li><li>'DDX11'</li><li>'NEDD4L'</li><li>'JPH2'</li><li>'BTN3A1'</li><li>'DNAJB4'</li><li>'TMEM100'</li><li>'CAST'</li></ol>\n"
      ],
      "text/latex": [
       "\\begin{enumerate*}\n",
       "\\item 'sample'\n",
       "\\item 'CSRP1'\n",
       "\\item 'HCFC1R1'\n",
       "\\item 'DDX11'\n",
       "\\item 'NEDD4L'\n",
       "\\item 'JPH2'\n",
       "\\item 'BTN3A1'\n",
       "\\item 'DNAJB4'\n",
       "\\item 'TMEM100'\n",
       "\\item 'CAST'\n",
       "\\end{enumerate*}\n"
      ],
      "text/markdown": [
       "1. 'sample'\n",
       "2. 'CSRP1'\n",
       "3. 'HCFC1R1'\n",
       "4. 'DDX11'\n",
       "5. 'NEDD4L'\n",
       "6. 'JPH2'\n",
       "7. 'BTN3A1'\n",
       "8. 'DNAJB4'\n",
       "9. 'TMEM100'\n",
       "10. 'CAST'\n",
       "\n",
       "\n"
      ],
      "text/plain": [
       " [1] \"sample\"  \"CSRP1\"   \"HCFC1R1\" \"DDX11\"   \"NEDD4L\"  \"JPH2\"    \"BTN3A1\" \n",
       " [8] \"DNAJB4\"  \"TMEM100\" \"CAST\"   "
      ]
     },
     "metadata": {},
     "output_type": "display_data"
    }
   ],
   "source": [
    "col_intersection[1:10]"
   ]
  },
  {
   "cell_type": "code",
   "execution_count": 17,
   "id": "20da9c1a-57e8-4be7-ba4c-5a525cd1be33",
   "metadata": {},
   "outputs": [
    {
     "data": {
      "text/html": [
       "<style>\n",
       ".list-inline {list-style: none; margin:0; padding: 0}\n",
       ".list-inline>li {display: inline-block}\n",
       ".list-inline>li:not(:last-child)::after {content: \"\\00b7\"; padding: 0 .5ex}\n",
       "</style>\n",
       "<ol class=list-inline><li>539</li><li>10355</li></ol>\n"
      ],
      "text/latex": [
       "\\begin{enumerate*}\n",
       "\\item 539\n",
       "\\item 10355\n",
       "\\end{enumerate*}\n"
      ],
      "text/markdown": [
       "1. 539\n",
       "2. 10355\n",
       "\n",
       "\n"
      ],
      "text/plain": [
       "[1]   539 10355"
      ]
     },
     "metadata": {},
     "output_type": "display_data"
    },
    {
     "data": {
      "text/html": [
       "<style>\n",
       ".list-inline {list-style: none; margin:0; padding: 0}\n",
       ".list-inline>li {display: inline-block}\n",
       ".list-inline>li:not(:last-child)::after {content: \"\\00b7\"; padding: 0 .5ex}\n",
       "</style>\n",
       "<ol class=list-inline><li>154</li><li>10355</li></ol>\n"
      ],
      "text/latex": [
       "\\begin{enumerate*}\n",
       "\\item 154\n",
       "\\item 10355\n",
       "\\end{enumerate*}\n"
      ],
      "text/markdown": [
       "1. 154\n",
       "2. 10355\n",
       "\n",
       "\n"
      ],
      "text/plain": [
       "[1]   154 10355"
      ]
     },
     "metadata": {},
     "output_type": "display_data"
    },
    {
     "data": {
      "text/html": [
       "<style>\n",
       ".list-inline {list-style: none; margin:0; padding: 0}\n",
       ".list-inline>li {display: inline-block}\n",
       ".list-inline>li:not(:last-child)::after {content: \"\\00b7\"; padding: 0 .5ex}\n",
       "</style>\n",
       "<ol class=list-inline><li>150</li><li>10355</li></ol>\n"
      ],
      "text/latex": [
       "\\begin{enumerate*}\n",
       "\\item 150\n",
       "\\item 10355\n",
       "\\end{enumerate*}\n"
      ],
      "text/markdown": [
       "1. 150\n",
       "2. 10355\n",
       "\n",
       "\n"
      ],
      "text/plain": [
       "[1]   150 10355"
      ]
     },
     "metadata": {},
     "output_type": "display_data"
    },
    {
     "data": {
      "text/html": [
       "<style>\n",
       ".list-inline {list-style: none; margin:0; padding: 0}\n",
       ".list-inline>li {display: inline-block}\n",
       ".list-inline>li:not(:last-child)::after {content: \"\\00b7\"; padding: 0 .5ex}\n",
       "</style>\n",
       "<ol class=list-inline><li>86</li><li>10355</li></ol>\n"
      ],
      "text/latex": [
       "\\begin{enumerate*}\n",
       "\\item 86\n",
       "\\item 10355\n",
       "\\end{enumerate*}\n"
      ],
      "text/markdown": [
       "1. 86\n",
       "2. 10355\n",
       "\n",
       "\n"
      ],
      "text/plain": [
       "[1]    86 10355"
      ]
     },
     "metadata": {},
     "output_type": "display_data"
    }
   ],
   "source": [
    "# matching up genes between our data types\n",
    "array.data <- array.data[,col_intersection]\n",
    "rnaseq.data <- rnaseq.data[,col_intersection]\n",
    "tempus_males <- tempus_males[,col_intersection]\n",
    "tempus_females <- tempus_females[,col_intersection]\n",
    "\n",
    "dim(array.data)\n",
    "dim(rnaseq.data)\n",
    "dim(tempus_males)\n",
    "dim(tempus_females)"
   ]
  },
  {
   "cell_type": "code",
   "execution_count": null,
   "id": "b628b7e1-5271-4b14-ab1f-c00fd37c85f6",
   "metadata": {},
   "outputs": [],
   "source": [
    "# Array data processing #"
   ]
  },
  {
   "cell_type": "code",
   "execution_count": 21,
   "id": "e9699920-bcec-4052-bdbc-e4b6109193ac",
   "metadata": {},
   "outputs": [],
   "source": [
    "tgca.array.jive <- array.data[array.data$sample %in% c(male.jive.id.list$value,female.jive.id.list$value),]\n",
    "\n",
    "train.m <- tgca.array.jive %>% inner_join(. , male.jive.id.list, by = c(\"sample\" = \"value\"))\n",
    "\n",
    "train.f <- tgca.array.jive %>% inner_join(. , female.jive.id.list, by = c(\"sample\" = \"value\"))"
   ]
  },
  {
   "cell_type": "code",
   "execution_count": 22,
   "id": "162cd32f-7c9a-43c1-a995-456c14a6ba60",
   "metadata": {},
   "outputs": [
    {
     "data": {
      "text/html": [
       "<style>\n",
       ".list-inline {list-style: none; margin:0; padding: 0}\n",
       ".list-inline>li {display: inline-block}\n",
       ".list-inline>li:not(:last-child)::after {content: \"\\00b7\"; padding: 0 .5ex}\n",
       "</style>\n",
       "<ol class=list-inline><li>148</li><li>10356</li></ol>\n"
      ],
      "text/latex": [
       "\\begin{enumerate*}\n",
       "\\item 148\n",
       "\\item 10356\n",
       "\\end{enumerate*}\n"
      ],
      "text/markdown": [
       "1. 148\n",
       "2. 10356\n",
       "\n",
       "\n"
      ],
      "text/plain": [
       "[1]   148 10356"
      ]
     },
     "metadata": {},
     "output_type": "display_data"
    },
    {
     "data": {
      "text/html": [
       "<style>\n",
       ".list-inline {list-style: none; margin:0; padding: 0}\n",
       ".list-inline>li {display: inline-block}\n",
       ".list-inline>li:not(:last-child)::after {content: \"\\00b7\"; padding: 0 .5ex}\n",
       "</style>\n",
       "<ol class=list-inline><li>100</li><li>10356</li></ol>\n"
      ],
      "text/latex": [
       "\\begin{enumerate*}\n",
       "\\item 100\n",
       "\\item 10356\n",
       "\\end{enumerate*}\n"
      ],
      "text/markdown": [
       "1. 100\n",
       "2. 10356\n",
       "\n",
       "\n"
      ],
      "text/plain": [
       "[1]   100 10356"
      ]
     },
     "metadata": {},
     "output_type": "display_data"
    }
   ],
   "source": [
    "dim(train.m)\n",
    "dim(train.f)"
   ]
  },
  {
   "cell_type": "code",
   "execution_count": 33,
   "id": "8abc6584-0756-451a-b639-c1d95076e064",
   "metadata": {},
   "outputs": [],
   "source": [
    "# Male data\n",
    "saveRDS(male.jive.gene.list, \"data/Males_jive_cluster_genes_v3_GC.rds\")\n",
    "write.csv(train.m,\"data/Males_CV_Data_v3_GC.csv\",row.names=F)\n",
    "\n",
    "# Female data\n",
    "saveRDS(female.jive.gene.list, \"data/Female_jive_cluster_genes_v3_GC.rds\")\n",
    "write.csv(train.f,\"data/Females_CV_Data_v3_GC.csv\",row.names=F)"
   ]
  },
  {
   "cell_type": "code",
   "execution_count": null,
   "id": "9dd35689-7eb2-448c-9ea0-7f9b020d8f29",
   "metadata": {},
   "outputs": [],
   "source": [
    "## Processing the TEMPUS data ##"
   ]
  },
  {
   "cell_type": "code",
   "execution_count": 35,
   "id": "8e575723-1793-4eea-9e6c-709593bb2cbc",
   "metadata": {},
   "outputs": [],
   "source": [
    "tempus.m.test <- tempus_males[,names(tempus_males) %in% names(train.m)]\n",
    "tempus.f.test <- tempus_females[,names(tempus_females) %in% names(train.f)]\n",
    "\n",
    "tcga.tempus.jive.m <- tempus.m.test[tempus.m.test$sample %in% c(male.jive.id.list$value),]\n",
    "tcga.tempus.jive.f <- tempus.f.test[tempus.f.test$sample %in% c(female.jive.id.list$value),]\n",
    "\n",
    "tcga.tempus.jive.m[,2:(ncol(tcga.tempus.jive.m))] <- lapply(tcga.tempus.jive.m[,2:(ncol(tcga.tempus.jive.m))],as.numeric)\n",
    "tcga.tempus.jive.f[,2:(ncol(tcga.tempus.jive.f))] <- lapply(tcga.tempus.jive.f[,2:(ncol(tcga.tempus.jive.f))],as.numeric)\n",
    "\n",
    "train.m <- tcga.tempus.jive.m %>% inner_join(. , male.jive.id.list, by = c(\"sample\" = \"value\"))\n",
    "train.f <- tcga.tempus.jive.f %>% inner_join(. , female.jive.id.list, by = c(\"sample\" = \"value\"))  ### was tgca.rnaseq.jive.f"
   ]
  },
  {
   "cell_type": "code",
   "execution_count": 36,
   "id": "ee17b811-92ca-49ad-ab38-8d92fa6a0a76",
   "metadata": {},
   "outputs": [],
   "source": [
    "tempus.m.test$cluster.group <- NA\n",
    "write.csv(tempus.m.test,\"data/Males_Tempus_Test_v3_GC.csv\",row.names=F)\n",
    "\n",
    "tempus.f.test$cluster.group <- NA\n",
    "write.csv(tempus.f.test,\"data/Females_Tempus_Test_v3_GC.csv\",row.names=F)"
   ]
  },
  {
   "cell_type": "code",
   "execution_count": 38,
   "id": "7f3f61d8-ada0-46a6-a229-6a0c4935a185",
   "metadata": {},
   "outputs": [],
   "source": [
    "# processing the RNA-seq data #\n",
    "tgca.rnaseq.jive <- rnaseq.data[rnaseq.data$sample %in% c(male.jive.id.list$value,female.jive.id.list$value),]\n",
    "\n",
    "rnaseq.m <- tgca.rnaseq.jive %>% inner_join(. , male.jive.id.list, by = c(\"sample\" = \"value\"))\n",
    "\n",
    "rnaseq.f <- tgca.rnaseq.jive %>% inner_join(. , female.jive.id.list, by = c(\"sample\" = \"value\"))"
   ]
  },
  {
   "cell_type": "code",
   "execution_count": 39,
   "id": "b8992534-a2c0-427b-a39b-a508747bdf09",
   "metadata": {},
   "outputs": [
    {
     "data": {
      "text/html": [
       "<style>\n",
       ".list-inline {list-style: none; margin:0; padding: 0}\n",
       ".list-inline>li {display: inline-block}\n",
       ".list-inline>li:not(:last-child)::after {content: \"\\00b7\"; padding: 0 .5ex}\n",
       "</style>\n",
       "<ol class=list-inline><li>72</li><li>10356</li></ol>\n"
      ],
      "text/latex": [
       "\\begin{enumerate*}\n",
       "\\item 72\n",
       "\\item 10356\n",
       "\\end{enumerate*}\n"
      ],
      "text/markdown": [
       "1. 72\n",
       "2. 10356\n",
       "\n",
       "\n"
      ],
      "text/plain": [
       "[1]    72 10356"
      ]
     },
     "metadata": {},
     "output_type": "display_data"
    },
    {
     "data": {
      "text/html": [
       "<style>\n",
       ".list-inline {list-style: none; margin:0; padding: 0}\n",
       ".list-inline>li {display: inline-block}\n",
       ".list-inline>li:not(:last-child)::after {content: \"\\00b7\"; padding: 0 .5ex}\n",
       "</style>\n",
       "<ol class=list-inline><li>40</li><li>10356</li></ol>\n"
      ],
      "text/latex": [
       "\\begin{enumerate*}\n",
       "\\item 40\n",
       "\\item 10356\n",
       "\\end{enumerate*}\n"
      ],
      "text/markdown": [
       "1. 40\n",
       "2. 10356\n",
       "\n",
       "\n"
      ],
      "text/plain": [
       "[1]    40 10356"
      ]
     },
     "metadata": {},
     "output_type": "display_data"
    }
   ],
   "source": [
    "dim(rnaseq.m)\n",
    "dim(rnaseq.f)"
   ]
  },
  {
   "cell_type": "code",
   "execution_count": 40,
   "id": "b052121a-bdba-4df3-b358-8dd44247671d",
   "metadata": {},
   "outputs": [],
   "source": [
    "write.csv(train.m,\"data/Males_RNASeq_Data_v3_GC.csv\",row.names=F)\n",
    "write.csv(train.f,\"data/Females_RNASeq_Data_v3_GC.csv\",row.names=F)"
   ]
  },
  {
   "cell_type": "code",
   "execution_count": null,
   "id": "4213d9cf-3312-48f0-90e8-20029b5ac74e",
   "metadata": {},
   "outputs": [],
   "source": [
    "# DONE"
   ]
  }
 ],
 "metadata": {
  "environment": {
   "kernel": "ir",
   "name": "r-cpu.4-1.m97",
   "type": "gcloud",
   "uri": "gcr.io/deeplearning-platform-release/r-cpu.4-1:m97"
  },
  "kernelspec": {
   "display_name": "R",
   "language": "R",
   "name": "ir"
  },
  "language_info": {
   "codemirror_mode": "r",
   "file_extension": ".r",
   "mimetype": "text/x-r-source",
   "name": "R",
   "pygments_lexer": "r",
   "version": "4.2.2"
  }
 },
 "nbformat": 4,
 "nbformat_minor": 5
}
