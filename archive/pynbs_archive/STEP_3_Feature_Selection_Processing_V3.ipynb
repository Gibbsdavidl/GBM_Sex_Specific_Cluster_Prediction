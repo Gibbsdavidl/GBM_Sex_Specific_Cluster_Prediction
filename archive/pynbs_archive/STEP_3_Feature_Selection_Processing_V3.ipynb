{
 "cells": [
  {
   "cell_type": "code",
   "execution_count": null,
   "id": "85ccd6f4-1604-42a5-bd3c-9fcc3a93644c",
   "metadata": {},
   "outputs": [],
   "source": [
    "#devtools::install_github(\"gibbsdavidl/robencla\", force = F)"
   ]
  },
  {
   "cell_type": "code",
   "execution_count": 2,
   "id": "8053f0d2-8dbd-4ff5-bdd7-0ed95dcea7a1",
   "metadata": {},
   "outputs": [
    {
     "name": "stderr",
     "output_type": "stream",
     "text": [
      "── \u001B[1mAttaching packages\u001B[22m ──────────────────────────────────────────────────────────────────────────────────── tidyverse 1.3.2 ──\n",
      "\u001B[32m✔\u001B[39m \u001B[34mggplot2\u001B[39m 3.4.0      \u001B[32m✔\u001B[39m \u001B[34mpurrr  \u001B[39m 1.0.1 \n",
      "\u001B[32m✔\u001B[39m \u001B[34mtibble \u001B[39m 3.1.8      \u001B[32m✔\u001B[39m \u001B[34mdplyr  \u001B[39m 1.0.10\n",
      "\u001B[32m✔\u001B[39m \u001B[34mtidyr  \u001B[39m 1.2.1      \u001B[32m✔\u001B[39m \u001B[34mstringr\u001B[39m 1.5.0 \n",
      "\u001B[32m✔\u001B[39m \u001B[34mreadr  \u001B[39m 2.1.3      \u001B[32m✔\u001B[39m \u001B[34mforcats\u001B[39m 0.5.2 \n",
      "── \u001B[1mConflicts\u001B[22m ─────────────────────────────────────────────────────────────────────────────────────── tidyverse_conflicts() ──\n",
      "\u001B[31m✖\u001B[39m \u001B[34mdplyr\u001B[39m::\u001B[32mfilter()\u001B[39m masks \u001B[34mstats\u001B[39m::filter()\n",
      "\u001B[31m✖\u001B[39m \u001B[34mdplyr\u001B[39m::\u001B[32mlag()\u001B[39m    masks \u001B[34mstats\u001B[39m::lag()\n",
      "Loading required package: R6\n",
      "\n",
      "Loading required package: data.table\n",
      "\n",
      "\n",
      "Attaching package: ‘data.table’\n",
      "\n",
      "\n",
      "The following objects are masked from ‘package:dplyr’:\n",
      "\n",
      "    between, first, last\n",
      "\n",
      "\n",
      "The following object is masked from ‘package:purrr’:\n",
      "\n",
      "    transpose\n",
      "\n",
      "\n",
      "Loading required package: xgboost\n",
      "\n",
      "\n",
      "Attaching package: ‘xgboost’\n",
      "\n",
      "\n",
      "The following object is masked from ‘package:dplyr’:\n",
      "\n",
      "    slice\n",
      "\n",
      "\n",
      "Loading required package: plotROC\n",
      "\n",
      "Loading required package: parallel\n",
      "\n",
      "Loading required package: ROCit\n",
      "\n"
     ]
    }
   ],
   "source": [
    "library(tidyverse)\n",
    "library(robencla)"
   ]
  },
  {
   "cell_type": "code",
   "execution_count": 21,
   "id": "c7ef215d-64df-447e-ab7f-d97d0291e435",
   "metadata": {},
   "outputs": [],
   "source": [
    "### PULLING OUT SOME GENES\n",
    "#setwd(\"E:/Work/GBM_clusters/feature_selection\")\n",
    "resdf <- read.csv('data/feature_pairs_males_v3.csv')\n",
    "dfa <- read.csv('data/Males_CV_Data_v3.csv')"
   ]
  },
  {
   "cell_type": "code",
   "execution_count": 22,
   "id": "b7e0c9d6-6c65-4d50-9b80-a3f0dea161d8",
   "metadata": {},
   "outputs": [
    {
     "data": {
      "text/html": [
       "<style>\n",
       ".list-inline {list-style: none; margin:0; padding: 0}\n",
       ".list-inline>li {display: inline-block}\n",
       ".list-inline>li:not(:last-child)::after {content: \"\\00b7\"; padding: 0 .5ex}\n",
       "</style>\n",
       "<ol class=list-inline><li>220</li><li>10344</li></ol>\n"
      ],
      "text/latex": [
       "\\begin{enumerate*}\n",
       "\\item 220\n",
       "\\item 10344\n",
       "\\end{enumerate*}\n"
      ],
      "text/markdown": [
       "1. 220\n",
       "2. 10344\n",
       "\n",
       "\n"
      ],
      "text/plain": [
       "[1]   220 10344"
      ]
     },
     "metadata": {},
     "output_type": "display_data"
    }
   ],
   "source": [
    "dim(dfa)"
   ]
  },
  {
   "cell_type": "code",
   "execution_count": 58,
   "id": "69793bdf-9611-4257-8606-a985ba7b0450",
   "metadata": {},
   "outputs": [],
   "source": [
    "clusters <- c('cluster1','cluster2','cluster3','cluster4','cluster5')\n",
    "\n",
    "idxlist <- c()\n",
    "\n",
    "for (ci in clusters) {    \n",
    "    # first sorted by distance between\n",
    "    x1 <- resdf %>% dplyr::filter(cluster==ci) %>% arrange( desc(abs(dist_ij_cluster))) %>% head(n=3) %>% select('gene_i') %>% as_vector()\n",
    "    x2 <- resdf %>% dplyr::filter(cluster==ci) %>% arrange( desc(abs(dist_ij_cluster))) %>% head(n=3) %>% select('gene_j') %>% as_vector()\n",
    "    # then sorted by max proportion difference\n",
    "    x3 <- resdf %>% dplyr::filter(cluster=='cluster1') %>% arrange( desc(abs(prop_diff))) %>% head(n=3) %>% select('gene_i') %>% as_vector()\n",
    "    x4 <- resdf %>% dplyr::filter(cluster=='cluster1') %>% arrange( desc(abs(prop_diff))) %>% head(n=3) %>% select('gene_j') %>% as_vector()\n",
    "    for (i in 1:3) {\n",
    "        if (x1[i] == x3[i] && x2[i] == x4[i]) {\n",
    "            print(\"WARNING DUPS\")\n",
    "            print(c(x1[i],x2[i],x3[i],x4[i]))\n",
    "            idxlist <- c(idxlist, c(x1[i],x2[i],x3[i],x4[i]))\n",
    "        } else {\n",
    "            idxlist <- c(idxlist, c(x1[i],x2[i],x3[i],x4[i]))\n",
    "        }\n",
    "    }\n",
    "}\n",
    "    \n",
    "genelist <- colnames(dfa)[idxlist]"
   ]
  },
  {
   "cell_type": "code",
   "execution_count": 59,
   "id": "645d0120-9c6f-4b86-9ac8-bb57973c0cc7",
   "metadata": {},
   "outputs": [
    {
     "data": {
      "text/html": [
       "<style>\n",
       ".list-inline {list-style: none; margin:0; padding: 0}\n",
       ".list-inline>li {display: inline-block}\n",
       ".list-inline>li:not(:last-child)::after {content: \"\\00b7\"; padding: 0 .5ex}\n",
       "</style>\n",
       "<ol class=list-inline><li>'NTRK2'</li><li>'POSTN'</li><li>'TMEM43'</li><li>'JAG1'</li><li>'POSTN'</li><li>'MAN1C1'</li><li>'CIT'</li><li>'POLR1B'</li><li>'HSPB8'</li><li>'POSTN'</li><li>'MID1IP1'</li><li>'ZCCHC10'</li><li>'BBOX1'</li><li>'RCAN1'</li><li>'TMEM43'</li><li>'JAG1'</li><li>'IBSP'</li><li>'PPARGC1A'</li><li>'CIT'</li><li>'POLR1B'</li><li>'TPM4'</li><li>'C1D'</li><li>'MID1IP1'</li><li>'ZCCHC10'</li><li>'TPM4'</li><li>'IFI44L'</li><li>'TMEM43'</li><li>'JAG1'</li><li>'METTL3'</li><li>'IFI44L'</li><li>'CIT'</li><li>'POLR1B'</li><li>'RSAD2'</li><li>'GSK3A'</li><li>'MID1IP1'</li><li>'ZCCHC10'</li><li>'DNAJC7'</li><li>'PRKRIP1'</li><li>'TMEM43'</li><li>'JAG1'</li><li>'MAP3K7'</li><li>'ZNF512B'</li><li>'CIT'</li><li>'POLR1B'</li><li>'DNAJC7'</li><li>'LARS2'</li><li>'MID1IP1'</li><li>'ZCCHC10'</li><li>'NDC80'</li><li>'CRYM'</li><li>'TMEM43'</li><li>'JAG1'</li><li>'CRYM'</li><li>'KIF20A'</li><li>'CIT'</li><li>'POLR1B'</li><li>'CCK'</li><li>'TTK'</li><li>'MID1IP1'</li><li>'ZCCHC10'</li></ol>\n"
      ],
      "text/latex": [
       "\\begin{enumerate*}\n",
       "\\item 'NTRK2'\n",
       "\\item 'POSTN'\n",
       "\\item 'TMEM43'\n",
       "\\item 'JAG1'\n",
       "\\item 'POSTN'\n",
       "\\item 'MAN1C1'\n",
       "\\item 'CIT'\n",
       "\\item 'POLR1B'\n",
       "\\item 'HSPB8'\n",
       "\\item 'POSTN'\n",
       "\\item 'MID1IP1'\n",
       "\\item 'ZCCHC10'\n",
       "\\item 'BBOX1'\n",
       "\\item 'RCAN1'\n",
       "\\item 'TMEM43'\n",
       "\\item 'JAG1'\n",
       "\\item 'IBSP'\n",
       "\\item 'PPARGC1A'\n",
       "\\item 'CIT'\n",
       "\\item 'POLR1B'\n",
       "\\item 'TPM4'\n",
       "\\item 'C1D'\n",
       "\\item 'MID1IP1'\n",
       "\\item 'ZCCHC10'\n",
       "\\item 'TPM4'\n",
       "\\item 'IFI44L'\n",
       "\\item 'TMEM43'\n",
       "\\item 'JAG1'\n",
       "\\item 'METTL3'\n",
       "\\item 'IFI44L'\n",
       "\\item 'CIT'\n",
       "\\item 'POLR1B'\n",
       "\\item 'RSAD2'\n",
       "\\item 'GSK3A'\n",
       "\\item 'MID1IP1'\n",
       "\\item 'ZCCHC10'\n",
       "\\item 'DNAJC7'\n",
       "\\item 'PRKRIP1'\n",
       "\\item 'TMEM43'\n",
       "\\item 'JAG1'\n",
       "\\item 'MAP3K7'\n",
       "\\item 'ZNF512B'\n",
       "\\item 'CIT'\n",
       "\\item 'POLR1B'\n",
       "\\item 'DNAJC7'\n",
       "\\item 'LARS2'\n",
       "\\item 'MID1IP1'\n",
       "\\item 'ZCCHC10'\n",
       "\\item 'NDC80'\n",
       "\\item 'CRYM'\n",
       "\\item 'TMEM43'\n",
       "\\item 'JAG1'\n",
       "\\item 'CRYM'\n",
       "\\item 'KIF20A'\n",
       "\\item 'CIT'\n",
       "\\item 'POLR1B'\n",
       "\\item 'CCK'\n",
       "\\item 'TTK'\n",
       "\\item 'MID1IP1'\n",
       "\\item 'ZCCHC10'\n",
       "\\end{enumerate*}\n"
      ],
      "text/markdown": [
       "1. 'NTRK2'\n",
       "2. 'POSTN'\n",
       "3. 'TMEM43'\n",
       "4. 'JAG1'\n",
       "5. 'POSTN'\n",
       "6. 'MAN1C1'\n",
       "7. 'CIT'\n",
       "8. 'POLR1B'\n",
       "9. 'HSPB8'\n",
       "10. 'POSTN'\n",
       "11. 'MID1IP1'\n",
       "12. 'ZCCHC10'\n",
       "13. 'BBOX1'\n",
       "14. 'RCAN1'\n",
       "15. 'TMEM43'\n",
       "16. 'JAG1'\n",
       "17. 'IBSP'\n",
       "18. 'PPARGC1A'\n",
       "19. 'CIT'\n",
       "20. 'POLR1B'\n",
       "21. 'TPM4'\n",
       "22. 'C1D'\n",
       "23. 'MID1IP1'\n",
       "24. 'ZCCHC10'\n",
       "25. 'TPM4'\n",
       "26. 'IFI44L'\n",
       "27. 'TMEM43'\n",
       "28. 'JAG1'\n",
       "29. 'METTL3'\n",
       "30. 'IFI44L'\n",
       "31. 'CIT'\n",
       "32. 'POLR1B'\n",
       "33. 'RSAD2'\n",
       "34. 'GSK3A'\n",
       "35. 'MID1IP1'\n",
       "36. 'ZCCHC10'\n",
       "37. 'DNAJC7'\n",
       "38. 'PRKRIP1'\n",
       "39. 'TMEM43'\n",
       "40. 'JAG1'\n",
       "41. 'MAP3K7'\n",
       "42. 'ZNF512B'\n",
       "43. 'CIT'\n",
       "44. 'POLR1B'\n",
       "45. 'DNAJC7'\n",
       "46. 'LARS2'\n",
       "47. 'MID1IP1'\n",
       "48. 'ZCCHC10'\n",
       "49. 'NDC80'\n",
       "50. 'CRYM'\n",
       "51. 'TMEM43'\n",
       "52. 'JAG1'\n",
       "53. 'CRYM'\n",
       "54. 'KIF20A'\n",
       "55. 'CIT'\n",
       "56. 'POLR1B'\n",
       "57. 'CCK'\n",
       "58. 'TTK'\n",
       "59. 'MID1IP1'\n",
       "60. 'ZCCHC10'\n",
       "\n",
       "\n"
      ],
      "text/plain": [
       " [1] \"NTRK2\"    \"POSTN\"    \"TMEM43\"   \"JAG1\"     \"POSTN\"    \"MAN1C1\"  \n",
       " [7] \"CIT\"      \"POLR1B\"   \"HSPB8\"    \"POSTN\"    \"MID1IP1\"  \"ZCCHC10\" \n",
       "[13] \"BBOX1\"    \"RCAN1\"    \"TMEM43\"   \"JAG1\"     \"IBSP\"     \"PPARGC1A\"\n",
       "[19] \"CIT\"      \"POLR1B\"   \"TPM4\"     \"C1D\"      \"MID1IP1\"  \"ZCCHC10\" \n",
       "[25] \"TPM4\"     \"IFI44L\"   \"TMEM43\"   \"JAG1\"     \"METTL3\"   \"IFI44L\"  \n",
       "[31] \"CIT\"      \"POLR1B\"   \"RSAD2\"    \"GSK3A\"    \"MID1IP1\"  \"ZCCHC10\" \n",
       "[37] \"DNAJC7\"   \"PRKRIP1\"  \"TMEM43\"   \"JAG1\"     \"MAP3K7\"   \"ZNF512B\" \n",
       "[43] \"CIT\"      \"POLR1B\"   \"DNAJC7\"   \"LARS2\"    \"MID1IP1\"  \"ZCCHC10\" \n",
       "[49] \"NDC80\"    \"CRYM\"     \"TMEM43\"   \"JAG1\"     \"CRYM\"     \"KIF20A\"  \n",
       "[55] \"CIT\"      \"POLR1B\"   \"CCK\"      \"TTK\"      \"MID1IP1\"  \"ZCCHC10\" "
      ]
     },
     "metadata": {},
     "output_type": "display_data"
    }
   ],
   "source": [
    "genelist"
   ]
  },
  {
   "cell_type": "code",
   "execution_count": 60,
   "id": "11e5fb78-0ee5-4ad7-a8ab-d09d373e0e00",
   "metadata": {},
   "outputs": [],
   "source": [
    "save(genelist, file='data/Males_feature_sel_genelist.rda')"
   ]
  },
  {
   "cell_type": "code",
   "execution_count": 52,
   "id": "092ae53f-6043-4141-9473-8a4c1fad036e",
   "metadata": {},
   "outputs": [
    {
     "data": {
      "image/png": "[encoded data removed]",
      "text/plain": [
       "plot without title"
      ]
     },
     "metadata": {
      "image/png": {
       "height": 420,
       "width": 420
      }
     },
     "output_type": "display_data"
    }
   ],
   "source": [
    "geneA <- genelist[1]\n",
    "geneB <- genelist[2]\n",
    "\n",
    "v1 <- dfa[dfa$cluster.group == 'cluster1', geneA]\n",
    "v2 <- dfa[dfa$cluster.group == 'cluster1', geneB]\n",
    "v3 <- dfa[dfa$cluster.group != 'cluster1', geneA]\n",
    "v4 <- dfa[dfa$cluster.group != 'cluster1', geneB]\n",
    "\n",
    "boxplot(list(C1_A=v1,C1_B=v2, notC1_A=v3, notC1_B=v4))\n"
   ]
  },
  {
   "cell_type": "code",
   "execution_count": null,
   "id": "55befa2b-9561-4ed1-a919-3628197d9d5b",
   "metadata": {},
   "outputs": [],
   "source": []
  },
  {
   "cell_type": "code",
   "execution_count": 29,
   "id": "81048fd1-df65-4656-b184-48e44a697647",
   "metadata": {},
   "outputs": [],
   "source": [
    "### PULLING OUT SOME GENES\n",
    "#setwd(\"E:/Work/GBM_clusters/feature_selection\")\n",
    "resdf_f <- read.csv('data/feature_pairs_female_v3.csv')\n",
    "dfa_f <- read.csv('data/Females_CV_Data_v3.csv')"
   ]
  },
  {
   "cell_type": "code",
   "execution_count": 30,
   "id": "82f21c28-140a-410d-a16b-8414c80ec69a",
   "metadata": {},
   "outputs": [
    {
     "data": {
      "text/html": [
       "<table class=\"dataframe\">\n",
       "<caption>A data.frame: 6 × 10</caption>\n",
       "<thead>\n",
       "\t<tr><th></th><th scope=col>item</th><th scope=col>cluster</th><th scope=col>pair</th><th scope=col>gene_i</th><th scope=col>gene_j</th><th scope=col>prop_this_cluster</th><th scope=col>prop_not_cluster</th><th scope=col>dist_ij_cluster</th><th scope=col>dist_ij_not_cluster</th><th scope=col>prop_diff</th></tr>\n",
       "\t<tr><th></th><th scope=col>&lt;int&gt;</th><th scope=col>&lt;chr&gt;</th><th scope=col>&lt;int&gt;</th><th scope=col>&lt;int&gt;</th><th scope=col>&lt;int&gt;</th><th scope=col>&lt;dbl&gt;</th><th scope=col>&lt;dbl&gt;</th><th scope=col>&lt;dbl&gt;</th><th scope=col>&lt;dbl&gt;</th><th scope=col>&lt;dbl&gt;</th></tr>\n",
       "</thead>\n",
       "<tbody>\n",
       "\t<tr><th scope=row>1</th><td>1</td><td>cluster1</td><td>1</td><td> 68</td><td>8281</td><td>0.14634146</td><td>0.8888889</td><td>-59.40443</td><td>  79.01860</td><td>-0.7425474</td></tr>\n",
       "\t<tr><th scope=row>2</th><td>2</td><td>cluster1</td><td>2</td><td>193</td><td>4862</td><td>0.82926829</td><td>0.1616162</td><td> 31.50396</td><td>-139.84332</td><td> 0.6676521</td></tr>\n",
       "\t<tr><th scope=row>3</th><td>3</td><td>cluster1</td><td>3</td><td>293</td><td>4401</td><td>0.82926829</td><td>0.1010101</td><td>  6.44260</td><td> -92.44827</td><td> 0.7282582</td></tr>\n",
       "\t<tr><th scope=row>4</th><td>4</td><td>cluster1</td><td>4</td><td>338</td><td>2906</td><td>0.92682927</td><td>0.2424242</td><td> 79.81535</td><td>-162.10268</td><td> 0.6844050</td></tr>\n",
       "\t<tr><th scope=row>5</th><td>5</td><td>cluster1</td><td>5</td><td>497</td><td>3581</td><td>0.95121951</td><td>0.2828283</td><td> 62.31829</td><td> -65.07694</td><td> 0.6683912</td></tr>\n",
       "\t<tr><th scope=row>6</th><td>6</td><td>cluster1</td><td>6</td><td>800</td><td>8976</td><td>0.07317073</td><td>0.7373737</td><td>-39.76830</td><td>  87.40717</td><td>-0.6642030</td></tr>\n",
       "</tbody>\n",
       "</table>\n"
      ],
      "text/latex": [
       "A data.frame: 6 × 10\n",
       "\\begin{tabular}{r|llllllllll}\n",
       "  & item & cluster & pair & gene\\_i & gene\\_j & prop\\_this\\_cluster & prop\\_not\\_cluster & dist\\_ij\\_cluster & dist\\_ij\\_not\\_cluster & prop\\_diff\\\\\n",
       "  & <int> & <chr> & <int> & <int> & <int> & <dbl> & <dbl> & <dbl> & <dbl> & <dbl>\\\\\n",
       "\\hline\n",
       "\t1 & 1 & cluster1 & 1 &  68 & 8281 & 0.14634146 & 0.8888889 & -59.40443 &   79.01860 & -0.7425474\\\\\n",
       "\t2 & 2 & cluster1 & 2 & 193 & 4862 & 0.82926829 & 0.1616162 &  31.50396 & -139.84332 &  0.6676521\\\\\n",
       "\t3 & 3 & cluster1 & 3 & 293 & 4401 & 0.82926829 & 0.1010101 &   6.44260 &  -92.44827 &  0.7282582\\\\\n",
       "\t4 & 4 & cluster1 & 4 & 338 & 2906 & 0.92682927 & 0.2424242 &  79.81535 & -162.10268 &  0.6844050\\\\\n",
       "\t5 & 5 & cluster1 & 5 & 497 & 3581 & 0.95121951 & 0.2828283 &  62.31829 &  -65.07694 &  0.6683912\\\\\n",
       "\t6 & 6 & cluster1 & 6 & 800 & 8976 & 0.07317073 & 0.7373737 & -39.76830 &   87.40717 & -0.6642030\\\\\n",
       "\\end{tabular}\n"
      ],
      "text/markdown": [
       "\n",
       "A data.frame: 6 × 10\n",
       "\n",
       "| <!--/--> | item &lt;int&gt; | cluster &lt;chr&gt; | pair &lt;int&gt; | gene_i &lt;int&gt; | gene_j &lt;int&gt; | prop_this_cluster &lt;dbl&gt; | prop_not_cluster &lt;dbl&gt; | dist_ij_cluster &lt;dbl&gt; | dist_ij_not_cluster &lt;dbl&gt; | prop_diff &lt;dbl&gt; |\n",
       "|---|---|---|---|---|---|---|---|---|---|---|\n",
       "| 1 | 1 | cluster1 | 1 |  68 | 8281 | 0.14634146 | 0.8888889 | -59.40443 |   79.01860 | -0.7425474 |\n",
       "| 2 | 2 | cluster1 | 2 | 193 | 4862 | 0.82926829 | 0.1616162 |  31.50396 | -139.84332 |  0.6676521 |\n",
       "| 3 | 3 | cluster1 | 3 | 293 | 4401 | 0.82926829 | 0.1010101 |   6.44260 |  -92.44827 |  0.7282582 |\n",
       "| 4 | 4 | cluster1 | 4 | 338 | 2906 | 0.92682927 | 0.2424242 |  79.81535 | -162.10268 |  0.6844050 |\n",
       "| 5 | 5 | cluster1 | 5 | 497 | 3581 | 0.95121951 | 0.2828283 |  62.31829 |  -65.07694 |  0.6683912 |\n",
       "| 6 | 6 | cluster1 | 6 | 800 | 8976 | 0.07317073 | 0.7373737 | -39.76830 |   87.40717 | -0.6642030 |\n",
       "\n"
      ],
      "text/plain": [
       "  item cluster  pair gene_i gene_j prop_this_cluster prop_not_cluster\n",
       "1 1    cluster1 1     68    8281   0.14634146        0.8888889       \n",
       "2 2    cluster1 2    193    4862   0.82926829        0.1616162       \n",
       "3 3    cluster1 3    293    4401   0.82926829        0.1010101       \n",
       "4 4    cluster1 4    338    2906   0.92682927        0.2424242       \n",
       "5 5    cluster1 5    497    3581   0.95121951        0.2828283       \n",
       "6 6    cluster1 6    800    8976   0.07317073        0.7373737       \n",
       "  dist_ij_cluster dist_ij_not_cluster prop_diff \n",
       "1 -59.40443         79.01860          -0.7425474\n",
       "2  31.50396       -139.84332           0.6676521\n",
       "3   6.44260        -92.44827           0.7282582\n",
       "4  79.81535       -162.10268           0.6844050\n",
       "5  62.31829        -65.07694           0.6683912\n",
       "6 -39.76830         87.40717          -0.6642030"
      ]
     },
     "metadata": {},
     "output_type": "display_data"
    }
   ],
   "source": [
    "head(resdf_f)"
   ]
  },
  {
   "cell_type": "code",
   "execution_count": 61,
   "id": "2ca9d4a3-e52f-4efb-a646-8998c8b9a885",
   "metadata": {},
   "outputs": [],
   "source": [
    "clusters <- c('cluster1','cluster2','cluster3','cluster4','cluster5')\n",
    "\n",
    "idxlist <- c()\n",
    "\n",
    "for (ci in clusters) {    \n",
    "    # first sorted by distance between\n",
    "    x1 <- resdf_f %>% dplyr::filter(cluster==ci) %>% arrange( desc(abs(dist_ij_cluster))) %>% head(n=3) %>% select('gene_i') %>% as_vector()\n",
    "    x2 <- resdf_f %>% dplyr::filter(cluster==ci) %>% arrange( desc(abs(dist_ij_cluster))) %>% head(n=3) %>% select('gene_j') %>% as_vector()\n",
    "    # then sorted by max proportion difference\n",
    "    x3 <- resdf_f %>% dplyr::filter(cluster=='cluster1') %>% arrange( desc(abs(prop_diff))) %>% head(n=3) %>% select('gene_i') %>% as_vector()\n",
    "    x4 <- resdf_f %>% dplyr::filter(cluster=='cluster1') %>% arrange( desc(abs(prop_diff))) %>% head(n=3) %>% select('gene_j') %>% as_vector()\n",
    "    for (i in 1:3) {\n",
    "        if (x1[i] == x3[i] && x2[i] == x4[i]) {\n",
    "            print(\"WARNING DUPS\")\n",
    "            print(c(x1[i],x2[i],x3[i],x4[i]))\n",
    "            idxlist <- c(idxlist, c(x1[i],x2[i],x3[i],x4[i]))\n",
    "        } else {\n",
    "            idxlist <- c(idxlist, c(x1[i],x2[i],x3[i],x4[i]))\n",
    "        }\n",
    "    }\n",
    "}\n",
    "    \n",
    "genelist <- colnames(dfa)[idxlist]"
   ]
  },
  {
   "cell_type": "code",
   "execution_count": 62,
   "id": "59b1f9a1-91d8-4850-b093-0f06ae48721b",
   "metadata": {},
   "outputs": [
    {
     "data": {
      "text/html": [
       "<style>\n",
       ".list-inline {list-style: none; margin:0; padding: 0}\n",
       ".list-inline>li {display: inline-block}\n",
       ".list-inline>li:not(:last-child)::after {content: \"\\00b7\"; padding: 0 .5ex}\n",
       "</style>\n",
       "<ol class=list-inline><li>'SOX11'</li><li>'PDZD2'</li><li>'VAV3'</li><li>'FRZB'</li><li>'PLK2'</li><li>'DCX'</li><li>'GAP43'</li><li>'FJX1'</li><li>'XAF1'</li><li>'INSM1'</li><li>'OGFR'</li><li>'C1QL1'</li><li>'GNAI2'</li><li>'BNIP3'</li><li>'VAV3'</li><li>'FRZB'</li><li>'AQR'</li><li>'ARL4C'</li><li>'GAP43'</li><li>'FJX1'</li><li>'MAFF'</li><li>'COTL1'</li><li>'OGFR'</li><li>'C1QL1'</li><li>'SCN3A'</li><li>'RBP1'</li><li>'VAV3'</li><li>'FRZB'</li><li>'TMEM100'</li><li>'RBP1'</li><li>'GAP43'</li><li>'FJX1'</li><li>'DLG5'</li><li>'RBP1'</li><li>'OGFR'</li><li>'C1QL1'</li><li>'IGSF1'</li><li>'FA2H'</li><li>'VAV3'</li><li>'FRZB'</li><li>'IGSF1'</li><li>'ALK'</li><li>'GAP43'</li><li>'FJX1'</li><li>'COL9A3'</li><li>'FOXJ1'</li><li>'OGFR'</li><li>'C1QL1'</li><li>'TRAF6'</li><li>'STK32B'</li><li>'VAV3'</li><li>'FRZB'</li><li>'ZXDC'</li><li>'STK32B'</li><li>'GAP43'</li><li>'FJX1'</li><li>'STK32B'</li><li>'SECISBP2'</li><li>'OGFR'</li><li>'C1QL1'</li></ol>\n"
      ],
      "text/latex": [
       "\\begin{enumerate*}\n",
       "\\item 'SOX11'\n",
       "\\item 'PDZD2'\n",
       "\\item 'VAV3'\n",
       "\\item 'FRZB'\n",
       "\\item 'PLK2'\n",
       "\\item 'DCX'\n",
       "\\item 'GAP43'\n",
       "\\item 'FJX1'\n",
       "\\item 'XAF1'\n",
       "\\item 'INSM1'\n",
       "\\item 'OGFR'\n",
       "\\item 'C1QL1'\n",
       "\\item 'GNAI2'\n",
       "\\item 'BNIP3'\n",
       "\\item 'VAV3'\n",
       "\\item 'FRZB'\n",
       "\\item 'AQR'\n",
       "\\item 'ARL4C'\n",
       "\\item 'GAP43'\n",
       "\\item 'FJX1'\n",
       "\\item 'MAFF'\n",
       "\\item 'COTL1'\n",
       "\\item 'OGFR'\n",
       "\\item 'C1QL1'\n",
       "\\item 'SCN3A'\n",
       "\\item 'RBP1'\n",
       "\\item 'VAV3'\n",
       "\\item 'FRZB'\n",
       "\\item 'TMEM100'\n",
       "\\item 'RBP1'\n",
       "\\item 'GAP43'\n",
       "\\item 'FJX1'\n",
       "\\item 'DLG5'\n",
       "\\item 'RBP1'\n",
       "\\item 'OGFR'\n",
       "\\item 'C1QL1'\n",
       "\\item 'IGSF1'\n",
       "\\item 'FA2H'\n",
       "\\item 'VAV3'\n",
       "\\item 'FRZB'\n",
       "\\item 'IGSF1'\n",
       "\\item 'ALK'\n",
       "\\item 'GAP43'\n",
       "\\item 'FJX1'\n",
       "\\item 'COL9A3'\n",
       "\\item 'FOXJ1'\n",
       "\\item 'OGFR'\n",
       "\\item 'C1QL1'\n",
       "\\item 'TRAF6'\n",
       "\\item 'STK32B'\n",
       "\\item 'VAV3'\n",
       "\\item 'FRZB'\n",
       "\\item 'ZXDC'\n",
       "\\item 'STK32B'\n",
       "\\item 'GAP43'\n",
       "\\item 'FJX1'\n",
       "\\item 'STK32B'\n",
       "\\item 'SECISBP2'\n",
       "\\item 'OGFR'\n",
       "\\item 'C1QL1'\n",
       "\\end{enumerate*}\n"
      ],
      "text/markdown": [
       "1. 'SOX11'\n",
       "2. 'PDZD2'\n",
       "3. 'VAV3'\n",
       "4. 'FRZB'\n",
       "5. 'PLK2'\n",
       "6. 'DCX'\n",
       "7. 'GAP43'\n",
       "8. 'FJX1'\n",
       "9. 'XAF1'\n",
       "10. 'INSM1'\n",
       "11. 'OGFR'\n",
       "12. 'C1QL1'\n",
       "13. 'GNAI2'\n",
       "14. 'BNIP3'\n",
       "15. 'VAV3'\n",
       "16. 'FRZB'\n",
       "17. 'AQR'\n",
       "18. 'ARL4C'\n",
       "19. 'GAP43'\n",
       "20. 'FJX1'\n",
       "21. 'MAFF'\n",
       "22. 'COTL1'\n",
       "23. 'OGFR'\n",
       "24. 'C1QL1'\n",
       "25. 'SCN3A'\n",
       "26. 'RBP1'\n",
       "27. 'VAV3'\n",
       "28. 'FRZB'\n",
       "29. 'TMEM100'\n",
       "30. 'RBP1'\n",
       "31. 'GAP43'\n",
       "32. 'FJX1'\n",
       "33. 'DLG5'\n",
       "34. 'RBP1'\n",
       "35. 'OGFR'\n",
       "36. 'C1QL1'\n",
       "37. 'IGSF1'\n",
       "38. 'FA2H'\n",
       "39. 'VAV3'\n",
       "40. 'FRZB'\n",
       "41. 'IGSF1'\n",
       "42. 'ALK'\n",
       "43. 'GAP43'\n",
       "44. 'FJX1'\n",
       "45. 'COL9A3'\n",
       "46. 'FOXJ1'\n",
       "47. 'OGFR'\n",
       "48. 'C1QL1'\n",
       "49. 'TRAF6'\n",
       "50. 'STK32B'\n",
       "51. 'VAV3'\n",
       "52. 'FRZB'\n",
       "53. 'ZXDC'\n",
       "54. 'STK32B'\n",
       "55. 'GAP43'\n",
       "56. 'FJX1'\n",
       "57. 'STK32B'\n",
       "58. 'SECISBP2'\n",
       "59. 'OGFR'\n",
       "60. 'C1QL1'\n",
       "\n",
       "\n"
      ],
      "text/plain": [
       " [1] \"SOX11\"    \"PDZD2\"    \"VAV3\"     \"FRZB\"     \"PLK2\"     \"DCX\"     \n",
       " [7] \"GAP43\"    \"FJX1\"     \"XAF1\"     \"INSM1\"    \"OGFR\"     \"C1QL1\"   \n",
       "[13] \"GNAI2\"    \"BNIP3\"    \"VAV3\"     \"FRZB\"     \"AQR\"      \"ARL4C\"   \n",
       "[19] \"GAP43\"    \"FJX1\"     \"MAFF\"     \"COTL1\"    \"OGFR\"     \"C1QL1\"   \n",
       "[25] \"SCN3A\"    \"RBP1\"     \"VAV3\"     \"FRZB\"     \"TMEM100\"  \"RBP1\"    \n",
       "[31] \"GAP43\"    \"FJX1\"     \"DLG5\"     \"RBP1\"     \"OGFR\"     \"C1QL1\"   \n",
       "[37] \"IGSF1\"    \"FA2H\"     \"VAV3\"     \"FRZB\"     \"IGSF1\"    \"ALK\"     \n",
       "[43] \"GAP43\"    \"FJX1\"     \"COL9A3\"   \"FOXJ1\"    \"OGFR\"     \"C1QL1\"   \n",
       "[49] \"TRAF6\"    \"STK32B\"   \"VAV3\"     \"FRZB\"     \"ZXDC\"     \"STK32B\"  \n",
       "[55] \"GAP43\"    \"FJX1\"     \"STK32B\"   \"SECISBP2\" \"OGFR\"     \"C1QL1\"   "
      ]
     },
     "metadata": {},
     "output_type": "display_data"
    }
   ],
   "source": [
    "genelist"
   ]
  },
  {
   "cell_type": "code",
   "execution_count": 63,
   "id": "793057c1-c8a2-419c-ab76-034d65af2cc9",
   "metadata": {},
   "outputs": [
    {
     "data": {
      "image/png": "[encoded data removed]",
      "text/plain": [
       "plot without title"
      ]
     },
     "metadata": {
      "image/png": {
       "height": 420,
       "width": 420
      }
     },
     "output_type": "display_data"
    }
   ],
   "source": [
    "geneA <- genelist[3]\n",
    "geneB <- genelist[4]\n",
    "\n",
    "v1 <- dfa[dfa$cluster.group == 'cluster1', geneA]\n",
    "v2 <- dfa[dfa$cluster.group == 'cluster1', geneB]\n",
    "v3 <- dfa[dfa$cluster.group != 'cluster1', geneA]\n",
    "v4 <- dfa[dfa$cluster.group != 'cluster1', geneB]\n",
    "\n",
    "boxplot(list(C1_A=v1,C1_B=v2, notC1_A=v3, notC1_B=v4))"
   ]
  },
  {
   "cell_type": "code",
   "execution_count": 64,
   "id": "ddc8c68a-a88b-4aa4-9488-1273b3a04a36",
   "metadata": {},
   "outputs": [],
   "source": [
    "save(genelist, file='data/Females_feature_sel_genelist.rda')"
   ]
  },
  {
   "cell_type": "code",
   "execution_count": null,
   "id": "efac741d-f62e-49c2-a128-3f9dec17dcc9",
   "metadata": {},
   "outputs": [],
   "source": []
  }
 ],
 "metadata": {
  "environment": {
   "kernel": "ir",
   "name": "r-cpu.4-1.m97",
   "type": "gcloud",
   "uri": "gcr.io/deeplearning-platform-release/r-cpu.4-1:m97"
  },
  "kernelspec": {
   "display_name": "R",
   "language": "R",
   "name": "ir"
  },
  "language_info": {
   "codemirror_mode": "r",
   "file_extension": ".r",
   "mimetype": "text/x-r-source",
   "name": "R",
   "pygments_lexer": "r",
   "version": "4.2.3"
  }
 },
 "nbformat": 4,
 "nbformat_minor": 5
}
