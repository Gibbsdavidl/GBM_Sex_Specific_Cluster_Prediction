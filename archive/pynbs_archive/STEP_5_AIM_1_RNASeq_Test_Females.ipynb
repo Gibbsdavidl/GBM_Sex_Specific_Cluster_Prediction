{
 "cells": [
  {
   "cell_type": "markdown",
   "id": "0ca74234-6c68-4103-b1c3-915c5ad1ee1d",
   "metadata": {},
   "source": [
    "Changes:\n",
    "\n",
    "* Subsetting to genes that are present in all data sources.. array, RNA-seq, and TEMPUS. 10363 genes.\n",
    "* Subsetting the JIVE gene signatures to those present genes.\n",
    "\n",
    "Questions: Are there missing genes, in array, that are present in RNA-seq, that would be better to have for TEMPUS?\n",
    "\n",
    "\n"
   ]
  },
  {
   "cell_type": "code",
   "execution_count": null,
   "id": "e5abbf85-771d-4614-b3d1-a8907b1f37b3",
   "metadata": {},
   "outputs": [],
   "source": [
    "#devtools::install_github(\"gibbsdavidl/robencla\", force = F)"
   ]
  },
  {
   "cell_type": "code",
   "execution_count": 1,
   "id": "d832294a-95f9-4130-8c88-2e9b977aae71",
   "metadata": {},
   "outputs": [
    {
     "name": "stderr",
     "output_type": "stream",
     "text": [
      "── \u001B[1mAttaching packages\u001B[22m ───────────────────────────────────────────────────────────────────────────────────────────────────────────── tidyverse 1.3.2 ──\n",
      "\u001B[32m✔\u001B[39m \u001B[34mggplot2\u001B[39m 3.4.1     \u001B[32m✔\u001B[39m \u001B[34mpurrr  \u001B[39m 1.0.1\n",
      "\u001B[32m✔\u001B[39m \u001B[34mtibble \u001B[39m 3.2.1     \u001B[32m✔\u001B[39m \u001B[34mdplyr  \u001B[39m 1.1.1\n",
      "\u001B[32m✔\u001B[39m \u001B[34mtidyr  \u001B[39m 1.2.1     \u001B[32m✔\u001B[39m \u001B[34mstringr\u001B[39m 1.5.0\n",
      "\u001B[32m✔\u001B[39m \u001B[34mreadr  \u001B[39m 2.1.3     \u001B[32m✔\u001B[39m \u001B[34mforcats\u001B[39m 0.5.2\n",
      "── \u001B[1mConflicts\u001B[22m ──────────────────────────────────────────────────────────────────────────────────────────────────────────────── tidyverse_conflicts() ──\n",
      "\u001B[31m✖\u001B[39m \u001B[34mdplyr\u001B[39m::\u001B[32mfilter()\u001B[39m masks \u001B[34mstats\u001B[39m::filter()\n",
      "\u001B[31m✖\u001B[39m \u001B[34mdplyr\u001B[39m::\u001B[32mlag()\u001B[39m    masks \u001B[34mstats\u001B[39m::lag()\n",
      "Loading required package: R6\n",
      "\n",
      "Loading required package: data.table\n",
      "\n",
      "\n",
      "Attaching package: ‘data.table’\n",
      "\n",
      "\n",
      "The following objects are masked from ‘package:dplyr’:\n",
      "\n",
      "    between, first, last\n",
      "\n",
      "\n",
      "The following object is masked from ‘package:purrr’:\n",
      "\n",
      "    transpose\n",
      "\n",
      "\n",
      "Loading required package: xgboost\n",
      "\n",
      "\n",
      "Attaching package: ‘xgboost’\n",
      "\n",
      "\n",
      "The following object is masked from ‘package:dplyr’:\n",
      "\n",
      "    slice\n",
      "\n",
      "\n",
      "Loading required package: plotROC\n",
      "\n",
      "Loading required package: parallel\n",
      "\n",
      "Loading required package: ROCit\n",
      "\n"
     ]
    }
   ],
   "source": [
    "library(tidyverse)\n",
    "library(robencla)"
   ]
  },
  {
   "cell_type": "code",
   "execution_count": 2,
   "id": "8207f507-c4dd-49bc-a464-72f62786469c",
   "metadata": {},
   "outputs": [
    {
     "name": "stderr",
     "output_type": "stream",
     "text": [
      "\u001B[1mRows: \u001B[22m\u001B[34m140\u001B[39m \u001B[1mColumns: \u001B[22m\u001B[34m10356\u001B[39m\n",
      "\u001B[36m──\u001B[39m \u001B[1mColumn specification\u001B[22m \u001B[36m──────────────────────────────────────────────────────────────────────────────────────────────────────────────────────────────\u001B[39m\n",
      "\u001B[1mDelimiter:\u001B[22m \",\"\n",
      "\u001B[31mchr\u001B[39m     (2): sample, cluster.group\n",
      "\u001B[32mdbl\u001B[39m (10354): PDIA2, ZNF195, PIK3C2B, PHB2, SERF2, PLEKHG6, HOXA9, CD2AP, AP3...\n",
      "\n",
      "\u001B[36mℹ\u001B[39m Use `spec()` to retrieve the full column specification for this data.\n",
      "\u001B[36mℹ\u001B[39m Specify the column types or set `show_col_types = FALSE` to quiet this message.\n",
      "\u001B[1mRows: \u001B[22m\u001B[34m40\u001B[39m \u001B[1mColumns: \u001B[22m\u001B[34m10356\u001B[39m\n",
      "\u001B[36m──\u001B[39m \u001B[1mColumn specification\u001B[22m \u001B[36m──────────────────────────────────────────────────────────────────────────────────────────────────────────────────────────────\u001B[39m\n",
      "\u001B[1mDelimiter:\u001B[22m \",\"\n",
      "\u001B[31mchr\u001B[39m     (2): sample, cluster.group\n",
      "\u001B[32mdbl\u001B[39m (10354): PDIA2, ZNF195, PIK3C2B, PHB2, SERF2, PLEKHG6, HOXA9, CD2AP, AP3...\n",
      "\n",
      "\u001B[36mℹ\u001B[39m Use `spec()` to retrieve the full column specification for this data.\n",
      "\u001B[36mℹ\u001B[39m Specify the column types or set `show_col_types = FALSE` to quiet this message.\n"
     ]
    }
   ],
   "source": [
    "arr_f <- read_csv('data/Females_Array_Data_CW.csv')\n",
    "rna_f <- read_csv('data/Females_RNASeq_Data_CW.csv')\n",
    "load(\"data/Females_feature_sel_genelist.rda\")"
   ]
  },
  {
   "cell_type": "code",
   "execution_count": 3,
   "id": "3f272103-71cf-47bb-817a-84a0c23127f0",
   "metadata": {},
   "outputs": [
    {
     "data": {
      "text/html": [
       "<style>\n",
       ".list-inline {list-style: none; margin:0; padding: 0}\n",
       ".list-inline>li {display: inline-block}\n",
       ".list-inline>li:not(:last-child)::after {content: \"\\00b7\"; padding: 0 .5ex}\n",
       "</style>\n",
       "<ol class=list-inline><li>140</li><li>10356</li></ol>\n"
      ],
      "text/latex": [
       "\\begin{enumerate*}\n",
       "\\item 140\n",
       "\\item 10356\n",
       "\\end{enumerate*}\n"
      ],
      "text/markdown": [
       "1. 140\n",
       "2. 10356\n",
       "\n",
       "\n"
      ],
      "text/plain": [
       "[1]   140 10356"
      ]
     },
     "metadata": {},
     "output_type": "display_data"
    }
   ],
   "source": [
    "dim(arr_f)"
   ]
  },
  {
   "cell_type": "code",
   "execution_count": 4,
   "id": "c7a03bb7-8af6-4923-a692-2df10b61b119",
   "metadata": {},
   "outputs": [
    {
     "data": {
      "text/html": [
       "<style>\n",
       ".list-inline {list-style: none; margin:0; padding: 0}\n",
       ".list-inline>li {display: inline-block}\n",
       ".list-inline>li:not(:last-child)::after {content: \"\\00b7\"; padding: 0 .5ex}\n",
       "</style>\n",
       "<ol class=list-inline><li>40</li><li>10356</li></ol>\n"
      ],
      "text/latex": [
       "\\begin{enumerate*}\n",
       "\\item 40\n",
       "\\item 10356\n",
       "\\end{enumerate*}\n"
      ],
      "text/markdown": [
       "1. 40\n",
       "2. 10356\n",
       "\n",
       "\n"
      ],
      "text/plain": [
       "[1]    40 10356"
      ]
     },
     "metadata": {},
     "output_type": "display_data"
    }
   ],
   "source": [
    "dim(rna_f)"
   ]
  },
  {
   "cell_type": "code",
   "execution_count": 5,
   "id": "0d79eb42-6a7e-4470-bb58-18641c9a2808",
   "metadata": {},
   "outputs": [
    {
     "data": {
      "text/html": [
       "<style>\n",
       ".list-inline {list-style: none; margin:0; padding: 0}\n",
       ".list-inline>li {display: inline-block}\n",
       ".list-inline>li:not(:last-child)::after {content: \"\\00b7\"; padding: 0 .5ex}\n",
       "</style>\n",
       "<ol class=list-inline><li>'SOX11'</li><li>'PDZD2'</li><li>'VAV3'</li><li>'FRZB'</li><li>'PLK2'</li><li>'DCX'</li><li>'GAP43'</li><li>'FJX1'</li><li>'XAF1'</li><li>'INSM1'</li><li>'OGFR'</li><li>'C1QL1'</li><li>'GNAI2'</li><li>'BNIP3'</li><li>'VAV3'</li><li>'FRZB'</li><li>'AQR'</li><li>'ARL4C'</li><li>'GAP43'</li><li>'FJX1'</li><li>'MAFF'</li><li>'COTL1'</li><li>'OGFR'</li><li>'C1QL1'</li><li>'SCN3A'</li><li>'RBP1'</li><li>'VAV3'</li><li>'FRZB'</li><li>'TMEM100'</li><li>'RBP1'</li><li>'GAP43'</li><li>'FJX1'</li><li>'DLG5'</li><li>'RBP1'</li><li>'OGFR'</li><li>'C1QL1'</li><li>'IGSF1'</li><li>'FA2H'</li><li>'VAV3'</li><li>'FRZB'</li><li>'IGSF1'</li><li>'ALK'</li><li>'GAP43'</li><li>'FJX1'</li><li>'COL9A3'</li><li>'FOXJ1'</li><li>'OGFR'</li><li>'C1QL1'</li><li>'TRAF6'</li><li>'STK32B'</li><li>'VAV3'</li><li>'FRZB'</li><li>'ZXDC'</li><li>'STK32B'</li><li>'GAP43'</li><li>'FJX1'</li><li>'STK32B'</li><li>'SECISBP2'</li><li>'OGFR'</li><li>'C1QL1'</li></ol>\n"
      ],
      "text/latex": [
       "\\begin{enumerate*}\n",
       "\\item 'SOX11'\n",
       "\\item 'PDZD2'\n",
       "\\item 'VAV3'\n",
       "\\item 'FRZB'\n",
       "\\item 'PLK2'\n",
       "\\item 'DCX'\n",
       "\\item 'GAP43'\n",
       "\\item 'FJX1'\n",
       "\\item 'XAF1'\n",
       "\\item 'INSM1'\n",
       "\\item 'OGFR'\n",
       "\\item 'C1QL1'\n",
       "\\item 'GNAI2'\n",
       "\\item 'BNIP3'\n",
       "\\item 'VAV3'\n",
       "\\item 'FRZB'\n",
       "\\item 'AQR'\n",
       "\\item 'ARL4C'\n",
       "\\item 'GAP43'\n",
       "\\item 'FJX1'\n",
       "\\item 'MAFF'\n",
       "\\item 'COTL1'\n",
       "\\item 'OGFR'\n",
       "\\item 'C1QL1'\n",
       "\\item 'SCN3A'\n",
       "\\item 'RBP1'\n",
       "\\item 'VAV3'\n",
       "\\item 'FRZB'\n",
       "\\item 'TMEM100'\n",
       "\\item 'RBP1'\n",
       "\\item 'GAP43'\n",
       "\\item 'FJX1'\n",
       "\\item 'DLG5'\n",
       "\\item 'RBP1'\n",
       "\\item 'OGFR'\n",
       "\\item 'C1QL1'\n",
       "\\item 'IGSF1'\n",
       "\\item 'FA2H'\n",
       "\\item 'VAV3'\n",
       "\\item 'FRZB'\n",
       "\\item 'IGSF1'\n",
       "\\item 'ALK'\n",
       "\\item 'GAP43'\n",
       "\\item 'FJX1'\n",
       "\\item 'COL9A3'\n",
       "\\item 'FOXJ1'\n",
       "\\item 'OGFR'\n",
       "\\item 'C1QL1'\n",
       "\\item 'TRAF6'\n",
       "\\item 'STK32B'\n",
       "\\item 'VAV3'\n",
       "\\item 'FRZB'\n",
       "\\item 'ZXDC'\n",
       "\\item 'STK32B'\n",
       "\\item 'GAP43'\n",
       "\\item 'FJX1'\n",
       "\\item 'STK32B'\n",
       "\\item 'SECISBP2'\n",
       "\\item 'OGFR'\n",
       "\\item 'C1QL1'\n",
       "\\end{enumerate*}\n"
      ],
      "text/markdown": [
       "1. 'SOX11'\n",
       "2. 'PDZD2'\n",
       "3. 'VAV3'\n",
       "4. 'FRZB'\n",
       "5. 'PLK2'\n",
       "6. 'DCX'\n",
       "7. 'GAP43'\n",
       "8. 'FJX1'\n",
       "9. 'XAF1'\n",
       "10. 'INSM1'\n",
       "11. 'OGFR'\n",
       "12. 'C1QL1'\n",
       "13. 'GNAI2'\n",
       "14. 'BNIP3'\n",
       "15. 'VAV3'\n",
       "16. 'FRZB'\n",
       "17. 'AQR'\n",
       "18. 'ARL4C'\n",
       "19. 'GAP43'\n",
       "20. 'FJX1'\n",
       "21. 'MAFF'\n",
       "22. 'COTL1'\n",
       "23. 'OGFR'\n",
       "24. 'C1QL1'\n",
       "25. 'SCN3A'\n",
       "26. 'RBP1'\n",
       "27. 'VAV3'\n",
       "28. 'FRZB'\n",
       "29. 'TMEM100'\n",
       "30. 'RBP1'\n",
       "31. 'GAP43'\n",
       "32. 'FJX1'\n",
       "33. 'DLG5'\n",
       "34. 'RBP1'\n",
       "35. 'OGFR'\n",
       "36. 'C1QL1'\n",
       "37. 'IGSF1'\n",
       "38. 'FA2H'\n",
       "39. 'VAV3'\n",
       "40. 'FRZB'\n",
       "41. 'IGSF1'\n",
       "42. 'ALK'\n",
       "43. 'GAP43'\n",
       "44. 'FJX1'\n",
       "45. 'COL9A3'\n",
       "46. 'FOXJ1'\n",
       "47. 'OGFR'\n",
       "48. 'C1QL1'\n",
       "49. 'TRAF6'\n",
       "50. 'STK32B'\n",
       "51. 'VAV3'\n",
       "52. 'FRZB'\n",
       "53. 'ZXDC'\n",
       "54. 'STK32B'\n",
       "55. 'GAP43'\n",
       "56. 'FJX1'\n",
       "57. 'STK32B'\n",
       "58. 'SECISBP2'\n",
       "59. 'OGFR'\n",
       "60. 'C1QL1'\n",
       "\n",
       "\n"
      ],
      "text/plain": [
       " [1] \"SOX11\"    \"PDZD2\"    \"VAV3\"     \"FRZB\"     \"PLK2\"     \"DCX\"     \n",
       " [7] \"GAP43\"    \"FJX1\"     \"XAF1\"     \"INSM1\"    \"OGFR\"     \"C1QL1\"   \n",
       "[13] \"GNAI2\"    \"BNIP3\"    \"VAV3\"     \"FRZB\"     \"AQR\"      \"ARL4C\"   \n",
       "[19] \"GAP43\"    \"FJX1\"     \"MAFF\"     \"COTL1\"    \"OGFR\"     \"C1QL1\"   \n",
       "[25] \"SCN3A\"    \"RBP1\"     \"VAV3\"     \"FRZB\"     \"TMEM100\"  \"RBP1\"    \n",
       "[31] \"GAP43\"    \"FJX1\"     \"DLG5\"     \"RBP1\"     \"OGFR\"     \"C1QL1\"   \n",
       "[37] \"IGSF1\"    \"FA2H\"     \"VAV3\"     \"FRZB\"     \"IGSF1\"    \"ALK\"     \n",
       "[43] \"GAP43\"    \"FJX1\"     \"COL9A3\"   \"FOXJ1\"    \"OGFR\"     \"C1QL1\"   \n",
       "[49] \"TRAF6\"    \"STK32B\"   \"VAV3\"     \"FRZB\"     \"ZXDC\"     \"STK32B\"  \n",
       "[55] \"GAP43\"    \"FJX1\"     \"STK32B\"   \"SECISBP2\" \"OGFR\"     \"C1QL1\"   "
      ]
     },
     "metadata": {},
     "output_type": "display_data"
    }
   ],
   "source": [
    "genelist"
   ]
  },
  {
   "cell_type": "code",
   "execution_count": 6,
   "id": "14f78113-136d-46d3-8e09-0e90b58c6012",
   "metadata": {},
   "outputs": [
    {
     "data": {
      "text/plain": [
       "\n",
       "cluster1 cluster2 cluster3 cluster4 cluster5 \n",
       "      41       24       14       21       40 "
      ]
     },
     "metadata": {},
     "output_type": "display_data"
    }
   ],
   "source": [
    "table(arr_f$cluster.group)"
   ]
  },
  {
   "cell_type": "code",
   "execution_count": 8,
   "id": "949dcaad-3b6d-4c77-8c03-475c86d75756",
   "metadata": {},
   "outputs": [
    {
     "name": "stdout",
     "output_type": "stream",
     "text": [
      "[1] \"starting\"\n"
     ]
    }
   ],
   "source": [
    "\n",
    "# results list\n",
    "resl <- list()\n",
    "print('starting')\n",
    "\n",
    "# for a number of iterations, could be more\n",
    "for (i in 1:20) {\n",
    "\n",
    "  print(i)\n",
    "  idx <- sample(1:nrow(rna_f),size=5,replace = F)\n",
    "  sampleidx <- rna_f$sample[idx]\n",
    "\n",
    "  dfa3 <- arr_f[!(arr_f$sample %in% sampleidx), ]\n",
    "  dfb3 <- rna_f[c(idx), ]\n",
    "\n",
    "  # our classifier object named Anne.\n",
    "  anne <- Robencla$new(\"Anne\")\n",
    "\n",
    "  # xgboost parameters to pass to each sub-classifier in the ensembles\n",
    "  params <- list(max_depth=12,    # \"height\" of the tree, 6 is actually default. I think about 12 seems better.  (xgboost parameter)\n",
    "                 eta=0.2,        # this is the learning rate. smaller values slow it down, more conservative   (xgboost parameter)\n",
    "                 nrounds=24,     # number of rounds of training, lower numbers less overfitting (potentially)  (xgboost parameter)\n",
    "                 nthreads=5,     # parallel threads\n",
    "                 gamma=0.2,        # Minimum loss reduction required to again partition a leaf node. higher number ~ more conservative (xgboost parameter)\n",
    "                 lambda=1.2,     # L2 regularization term on weights, higher number ~ more conservative (xgboost parameter)\n",
    "                 alpha=0.2,     # L1 regularization term on weights. higher number ~ more conservative (xgboost parameter)\n",
    "                 verbose=0,\n",
    "                 train_perc=0.8,\n",
    "                 combine_function='median',\n",
    "                 size=11\n",
    "  )\n",
    "\n",
    "  # First we use the training data\n",
    "  anne$autotrain(data_frame = dfa3,\n",
    "                 label_name='cluster_group',\n",
    "                 sample_id = 'sample',\n",
    "                 data_mode=c('pairs'),  # pairs,sigpairs,quartiles,tertiles,binary,ranks,original #\n",
    "                 signatures=NULL,\n",
    "                 pair_list=genelist,  # subset to these genes.\n",
    "                 params=params)\n",
    "\n",
    "  # now we apply the classifier to a test set.\n",
    "  anne$autotest(data_frame = dfb3,#[,colnames(dfa2)], #'data/Males_RNASeq_Data_v3.csv',\n",
    "                label_name='cluster_group',\n",
    "                sample_id = 'sample')\n",
    "\n",
    "  #table(Pred=anne$results()$BestCall, True=anne$test_label)\n",
    "  resl[[i]] <- data.frame(Pred=anne$results()$BestCall, True=anne$test_label)\n",
    "}\n"
   ]
  },
  {
   "cell_type": "code",
   "execution_count": null,
   "id": "abb77a8f-523a-4c93-9732-4fc5caf3392c",
   "metadata": {},
   "outputs": [],
   "source": [
    "resdf <- do.call(\"rbind\", resl)\n",
    "table(resdf$Pred, resdf$True)"
   ]
  },
  {
   "cell_type": "code",
   "execution_count": null,
   "id": "4cb8bcc3-0275-432e-a3b1-ab431ee57ff2",
   "metadata": {},
   "outputs": [],
   "source": [
    "\n",
    "resdf$cluster1 <- as.numeric(resdf$cluster1)\n",
    "resdf$cluster2 <- as.numeric(resdf$cluster2)\n",
    "resdf$cluster3 <- as.numeric(resdf$cluster3)\n",
    "resdf$cluster4 <- as.numeric(resdf$cluster4)\n",
    "resdf$cluster5 <- as.numeric(resdf$cluster5)\n",
    "head(resdf)\n",
    "\n",
    "write.table(as.data.frame(resdf), 'results/female_rnaseq_pairs.csv', sep=',', quote = F, row.names = F)\n"
   ]
  },
  {
   "cell_type": "code",
   "execution_count": null,
   "id": "9f53074a-8f21-4af7-a828-ae21b69b3d52",
   "metadata": {},
   "outputs": [],
   "source": []
  }
 ],
 "metadata": {
  "environment": {
   "kernel": "ir",
   "name": "r-cpu.4-1.m97",
   "type": "gcloud",
   "uri": "gcr.io/deeplearning-platform-release/r-cpu.4-1:m97"
  },
  "kernelspec": {
   "display_name": "R",
   "language": "R",
   "name": "ir"
  },
  "language_info": {
   "codemirror_mode": "r",
   "file_extension": ".r",
   "mimetype": "text/x-r-source",
   "name": "R",
   "pygments_lexer": "r",
   "version": "4.2.3"
  }
 },
 "nbformat": 4,
 "nbformat_minor": 5
}
