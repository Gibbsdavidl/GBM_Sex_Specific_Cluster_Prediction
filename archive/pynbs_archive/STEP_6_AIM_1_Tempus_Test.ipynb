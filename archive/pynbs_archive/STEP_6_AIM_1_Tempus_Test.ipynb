{
 "cells": [
  {
   "cell_type": "markdown",
   "id": "0ca74234-6c68-4103-b1c3-915c5ad1ee1d",
   "metadata": {},
   "source": [
    "Changes:\n",
    "\n",
    "* Subsetting to genes that are present in all data sources.. array, RNA-seq, and TEMPUS. 10363 genes.\n",
    "* Subsetting the JIVE gene signatures to those present genes.\n",
    "\n",
    "Questions: Are there missing genes, in array, that are present in RNA-seq, that would be better to have for TEMPUS?\n",
    "\n",
    "\n"
   ]
  },
  {
   "cell_type": "code",
   "execution_count": 1,
   "id": "e5abbf85-771d-4614-b3d1-a8907b1f37b3",
   "metadata": {},
   "outputs": [],
   "source": [
    "#devtools::install_github(\"gibbsdavidl/robencla\", force = F)"
   ]
  },
  {
   "cell_type": "code",
   "execution_count": 2,
   "id": "d832294a-95f9-4130-8c88-2e9b977aae71",
   "metadata": {},
   "outputs": [
    {
     "name": "stderr",
     "output_type": "stream",
     "text": [
      "── \u001B[1mAttaching packages\u001B[22m ─────────────────────────────────────── tidyverse 1.3.2 ──\n",
      "\u001B[32m✔\u001B[39m \u001B[34mggplot2\u001B[39m 3.4.0      \u001B[32m✔\u001B[39m \u001B[34mpurrr  \u001B[39m 0.3.4 \n",
      "\u001B[32m✔\u001B[39m \u001B[34mtibble \u001B[39m 3.1.8      \u001B[32m✔\u001B[39m \u001B[34mdplyr  \u001B[39m 1.0.10\n",
      "\u001B[32m✔\u001B[39m \u001B[34mtidyr  \u001B[39m 1.2.1      \u001B[32m✔\u001B[39m \u001B[34mstringr\u001B[39m 1.5.0 \n",
      "\u001B[32m✔\u001B[39m \u001B[34mreadr  \u001B[39m 2.1.2      \u001B[32m✔\u001B[39m \u001B[34mforcats\u001B[39m 0.5.2 \n",
      "── \u001B[1mConflicts\u001B[22m ────────────────────────────────────────── tidyverse_conflicts() ──\n",
      "\u001B[31m✖\u001B[39m \u001B[34mdplyr\u001B[39m::\u001B[32mfilter()\u001B[39m masks \u001B[34mstats\u001B[39m::filter()\n",
      "\u001B[31m✖\u001B[39m \u001B[34mdplyr\u001B[39m::\u001B[32mlag()\u001B[39m    masks \u001B[34mstats\u001B[39m::lag()\n",
      "Loading required package: R6\n",
      "\n",
      "Loading required package: data.table\n",
      "\n",
      "\n",
      "Attaching package: ‘data.table’\n",
      "\n",
      "\n",
      "The following objects are masked from ‘package:dplyr’:\n",
      "\n",
      "    between, first, last\n",
      "\n",
      "\n",
      "The following object is masked from ‘package:purrr’:\n",
      "\n",
      "    transpose\n",
      "\n",
      "\n",
      "Loading required package: xgboost\n",
      "\n",
      "\n",
      "Attaching package: ‘xgboost’\n",
      "\n",
      "\n",
      "The following object is masked from ‘package:dplyr’:\n",
      "\n",
      "    slice\n",
      "\n",
      "\n",
      "Loading required package: plotROC\n",
      "\n",
      "Loading required package: parallel\n",
      "\n",
      "Loading required package: ROCit\n",
      "\n",
      "Loading required package: ggpubr\n",
      "\n",
      "\n",
      "Attaching package: ‘survminer’\n",
      "\n",
      "\n",
      "The following object is masked from ‘package:survival’:\n",
      "\n",
      "    myeloma\n",
      "\n",
      "\n"
     ]
    }
   ],
   "source": [
    "library(tidyverse)\n",
    "library(robencla)\n",
    "library(survival)\n",
    "library(survminer)"
   ]
  },
  {
   "cell_type": "code",
   "execution_count": 3,
   "id": "edee01ab-2f2c-4abe-99ab-fd0dd42e825d",
   "metadata": {},
   "outputs": [
    {
     "name": "stderr",
     "output_type": "stream",
     "text": [
      "\u001B[1mRows: \u001B[22m\u001B[34m148\u001B[39m \u001B[1mColumns: \u001B[22m\u001B[34m10344\u001B[39m\n",
      "\u001B[36m──\u001B[39m \u001B[1mColumn specification\u001B[22m \u001B[36m────────────────────────────────────────────────────────\u001B[39m\n",
      "\u001B[1mDelimiter:\u001B[22m \",\"\n",
      "\u001B[31mchr\u001B[39m     (2): sample, cluster.group\n",
      "\u001B[32mdbl\u001B[39m (10342): ARHGEF10L, HIF3A, RNF17, RNF10, RNF11, RNF13, REM1, TSKS, ATRX,...\n",
      "\n",
      "\u001B[36mℹ\u001B[39m Use `spec()` to retrieve the full column specification for this data.\n",
      "\u001B[36mℹ\u001B[39m Specify the column types or set `show_col_types = FALSE` to quiet this message.\n"
     ]
    }
   ],
   "source": [
    "dat.m <- read_csv('data/Males_CV_Data_v3_GC.csv')\n",
    "#pairgenes.m <- readRDS(\"../data/version3/pairgenes/pairgene_male_rounds_5.rds\")\n",
    "load(\"data/pairgenes/pairgene_male_rounds_8.rds\")\n",
    "# removing signature genes that are not available in our data sets\n",
    "male.jive.gene.list <- readRDS(\"data/Males_jive_cluster_genes_v3_GC.rds\") %>% dplyr::filter(value %in% colnames(dat.m))"
   ]
  },
  {
   "cell_type": "code",
   "execution_count": 4,
   "id": "91948ecc-e2f6-4faf-a047-91d5e6ba4dcb",
   "metadata": {},
   "outputs": [
    {
     "data": {
      "text/plain": [
       "\n",
       "cluster1 cluster2 cluster3 cluster4 cluster5 \n",
       "      12       46       79        7      179 "
      ]
     },
     "metadata": {},
     "output_type": "display_data"
    }
   ],
   "source": [
    "table(male.jive.gene.list$cluster.group)"
   ]
  },
  {
   "cell_type": "code",
   "execution_count": 5,
   "id": "a3e95326-4e67-4734-bf98-b24e1e3aee20",
   "metadata": {},
   "outputs": [
    {
     "data": {
      "text/html": [
       "17"
      ],
      "text/latex": [
       "17"
      ],
      "text/markdown": [
       "17"
      ],
      "text/plain": [
       "[1] 17"
      ]
     },
     "metadata": {},
     "output_type": "display_data"
    }
   ],
   "source": [
    "length(pairgenes)"
   ]
  },
  {
   "cell_type": "code",
   "execution_count": 6,
   "id": "47270029-1fd1-4845-9352-8ce2de147e05",
   "metadata": {},
   "outputs": [],
   "source": [
    "\n",
    "sigs.m <- list(\"C1\"=male.jive.gene.list$value[male.jive.gene.list$cluster.group == 'cluster1'],\n",
    "               \"C2\"=male.jive.gene.list$value[male.jive.gene.list$cluster.group == 'cluster2'],\n",
    "               \"C3\"=male.jive.gene.list$value[male.jive.gene.list$cluster.group == 'cluster3'],\n",
    "               \"C4\"=male.jive.gene.list$value[male.jive.gene.list$cluster.group == 'cluster4'],\n",
    "               \"C5\"=male.jive.gene.list$value[male.jive.gene.list$cluster.group == 'cluster5']\n",
    ")\n",
    "\n",
    "# our classifier object named Anne.\n",
    "anne <- Robencla$new(\"Anne\")\n",
    "\n",
    "# xgboost parameters to pass to each sub-classifier in the ensembles\n",
    "params <- list(max_depth=12,    # \"height\" of the tree, 6 is actually default. I think about 12 seems better.  (xgboost parameter)\n",
    "               eta=0.1,        # this is the learning rate. smaller values slow it down, more conservative   (xgboost parameter)\n",
    "               nrounds=42,     # number of rounds of training, lower numbers less overfitting (potentially)  (xgboost parameter)\n",
    "               nthreads=6,     # parallel threads\n",
    "               gamma=1,        # Minimum loss reduction required to again partition a leaf node. higher number ~ more conservative (xgboost parameter)\n",
    "               lambda=1.5,     # L2 regularization term on weights, higher number ~ more conservative (xgboost parameter)\n",
    "               alpha=0.5,      # L1 regularization term on weights. higher number ~ more conservative (xgboost parameter)\n",
    "               verbose=0)\n"
   ]
  },
  {
   "cell_type": "code",
   "execution_count": 8,
   "id": "d495a9d3-0911-4c1a-b5bd-c7615619ed87",
   "metadata": {},
   "outputs": [],
   "source": [
    "traindf <- data.table::fread(file='data/Males_CV_Data_v3_GC.csv',sep = ',',header = T)\n",
    "testdf <- data.table::fread(file=\"data/Males_Tempus_Test_v3_GC.csv\",sep = ',',header = T)\n",
    "\n",
    "# traindf$cluster.group <- ifelse(traindf$cluster.group == 'cluster5', yes='cluster5', no='other_cluster')\n",
    "# testdf$cluster.group <- ifelse(testdf$cluster.group == 'cluster5', yes='cluster5', no='other_cluster')"
   ]
  },
  {
   "cell_type": "code",
   "execution_count": 9,
   "id": "8bef676c-e6b1-46a6-9a2c-2a9c88b9d5ef",
   "metadata": {},
   "outputs": [
    {
     "name": "stderr",
     "output_type": "stream",
     "text": [
      "Warning message in FUN(X[[i]], ...):\n",
      "“NAs introduced by coercion”\n"
     ]
    }
   ],
   "source": [
    "\n",
    "# First we use the training data\n",
    "anne$autotrain(data_frame=traindf,\n",
    "               label_name='cluster_group',\n",
    "               sample_id = 'sample',\n",
    "               data_mode=c('pairs'), # pairs,sigpairs,quartiles,tertiles,binarize,ranks,original #\n",
    "               signatures=NULL,\n",
    "               pair_list=pairgenes,  # subset to these genes.\n",
    "               size=18,\n",
    "               params=params,\n",
    "               train_perc=0.8,\n",
    "               combine_function='median')\n"
   ]
  },
  {
   "cell_type": "code",
   "execution_count": 10,
   "id": "4dd46ffd-4503-474e-896e-95a1a89caa3d",
   "metadata": {},
   "outputs": [
    {
     "name": "stdout",
     "output_type": "stream",
     "text": [
      "[1] \"TEST DATA CONTAINS ZERO VARIANCE COLUMNS\"\n",
      "[1] \"...filling with random noise...\"\n"
     ]
    }
   ],
   "source": [
    "anne$autotest(data_frame=testdf, \n",
    "               label_name='cluster_group',\n",
    "               sample_id = 'sample')\n"
   ]
  },
  {
   "cell_type": "code",
   "execution_count": 11,
   "id": "9384afc9-1d05-459e-97cb-9a54e4c2a348",
   "metadata": {},
   "outputs": [
    {
     "data": {
      "text/html": [
       "<table class=\"dataframe\">\n",
       "<caption>A data.frame: 5 × 8</caption>\n",
       "<thead>\n",
       "\t<tr><th></th><th scope=col>SampleIDs</th><th scope=col>BestCalls</th><th scope=col>cluster1</th><th scope=col>cluster4</th><th scope=col>cluster2</th><th scope=col>cluster5</th><th scope=col>cluster3</th><th scope=col>Label</th></tr>\n",
       "\t<tr><th></th><th scope=col>&lt;chr&gt;</th><th scope=col>&lt;chr&gt;</th><th scope=col>&lt;list&gt;</th><th scope=col>&lt;list&gt;</th><th scope=col>&lt;list&gt;</th><th scope=col>&lt;list&gt;</th><th scope=col>&lt;list&gt;</th><th scope=col>&lt;chr&gt;</th></tr>\n",
       "</thead>\n",
       "<tbody>\n",
       "\t<tr><th scope=row>UM019</th><td>UM019</td><td>cluster5</td><td>0.2267217</td><td>0.1010297</td><td>0.2585546</td><td>0.2184245</td><td>0.1952694</td><td>NA</td></tr>\n",
       "\t<tr><th scope=row>UM137</th><td>UM137</td><td>cluster1</td><td>0.2709636</td><td>0.1578583</td><td>0.2344583</td><td>0.1136971</td><td>0.2230227</td><td>NA</td></tr>\n",
       "\t<tr><th scope=row>UM015</th><td>UM015</td><td>cluster5</td><td>0.08194415</td><td>0.06220688</td><td>0.1959191</td><td>0.4964719</td><td>0.163458</td><td>NA</td></tr>\n",
       "\t<tr><th scope=row>UM042</th><td>UM042</td><td>cluster5</td><td>0.1668547</td><td>0.05082774</td><td>0.2771127</td><td>0.3550263</td><td>0.1501785</td><td>NA</td></tr>\n",
       "\t<tr><th scope=row>UM123</th><td>UM123</td><td>cluster2</td><td>0.2042329</td><td>0.05809463</td><td>0.4131767</td><td>0.1418485</td><td>0.1826473</td><td>NA</td></tr>\n",
       "</tbody>\n",
       "</table>\n"
      ],
      "text/latex": [
       "A data.frame: 5 × 8\n",
       "\\begin{tabular}{r|llllllll}\n",
       "  & SampleIDs & BestCalls & cluster1 & cluster4 & cluster2 & cluster5 & cluster3 & Label\\\\\n",
       "  & <chr> & <chr> & <list> & <list> & <list> & <list> & <list> & <chr>\\\\\n",
       "\\hline\n",
       "\tUM019 & UM019 & cluster5 & 0.2267217 & 0.1010297 & 0.2585546 & 0.2184245 & 0.1952694 & NA\\\\\n",
       "\tUM137 & UM137 & cluster1 & 0.2709636 & 0.1578583 & 0.2344583 & 0.1136971 & 0.2230227 & NA\\\\\n",
       "\tUM015 & UM015 & cluster5 & 0.08194415 & 0.06220688 & 0.1959191 & 0.4964719 & 0.163458 & NA\\\\\n",
       "\tUM042 & UM042 & cluster5 & 0.1668547 & 0.05082774 & 0.2771127 & 0.3550263 & 0.1501785 & NA\\\\\n",
       "\tUM123 & UM123 & cluster2 & 0.2042329 & 0.05809463 & 0.4131767 & 0.1418485 & 0.1826473 & NA\\\\\n",
       "\\end{tabular}\n"
      ],
      "text/markdown": [
       "\n",
       "A data.frame: 5 × 8\n",
       "\n",
       "| <!--/--> | SampleIDs &lt;chr&gt; | BestCalls &lt;chr&gt; | cluster1 &lt;list&gt; | cluster4 &lt;list&gt; | cluster2 &lt;list&gt; | cluster5 &lt;list&gt; | cluster3 &lt;list&gt; | Label &lt;chr&gt; |\n",
       "|---|---|---|---|---|---|---|---|---|\n",
       "| UM019 | UM019 | cluster5 | 0.2267217 | 0.1010297 | 0.2585546 | 0.2184245 | 0.1952694 | NA |\n",
       "| UM137 | UM137 | cluster1 | 0.2709636 | 0.1578583 | 0.2344583 | 0.1136971 | 0.2230227 | NA |\n",
       "| UM015 | UM015 | cluster5 | 0.08194415 | 0.06220688 | 0.1959191 | 0.4964719 | 0.163458 | NA |\n",
       "| UM042 | UM042 | cluster5 | 0.1668547 | 0.05082774 | 0.2771127 | 0.3550263 | 0.1501785 | NA |\n",
       "| UM123 | UM123 | cluster2 | 0.2042329 | 0.05809463 | 0.4131767 | 0.1418485 | 0.1826473 | NA |\n",
       "\n"
      ],
      "text/plain": [
       "      SampleIDs BestCalls cluster1   cluster4   cluster2  cluster5  cluster3 \n",
       "UM019 UM019     cluster5  0.2267217  0.1010297  0.2585546 0.2184245 0.1952694\n",
       "UM137 UM137     cluster1  0.2709636  0.1578583  0.2344583 0.1136971 0.2230227\n",
       "UM015 UM015     cluster5  0.08194415 0.06220688 0.1959191 0.4964719 0.163458 \n",
       "UM042 UM042     cluster5  0.1668547  0.05082774 0.2771127 0.3550263 0.1501785\n",
       "UM123 UM123     cluster2  0.2042329  0.05809463 0.4131767 0.1418485 0.1826473\n",
       "      Label\n",
       "UM019 NA   \n",
       "UM137 NA   \n",
       "UM015 NA   \n",
       "UM042 NA   \n",
       "UM123 NA   "
      ]
     },
     "metadata": {},
     "output_type": "display_data"
    }
   ],
   "source": [
    "df.m.tempus <- anne$results(include_label = T)\n",
    "df.m.tempus[1:5,]"
   ]
  },
  {
   "cell_type": "code",
   "execution_count": 12,
   "id": "67cd6b2f-ca36-45e4-83a5-bebd3db54f34",
   "metadata": {},
   "outputs": [
    {
     "data": {
      "text/plain": [
       "Pred\n",
       "cluster1 cluster2 cluster3 cluster5 \n",
       "      37       19       57       37 "
      ]
     },
     "metadata": {},
     "output_type": "display_data"
    }
   ],
   "source": [
    "table(Pred=df.m.tempus$BestCalls)"
   ]
  },
  {
   "cell_type": "code",
   "execution_count": 14,
   "id": "b8909274-1db1-46bc-823a-1206fadb3bfa",
   "metadata": {},
   "outputs": [],
   "source": [
    "tempus.clin <- read.csv('data/TEMPUS_Clinical_Data.csv')"
   ]
  },
  {
   "cell_type": "code",
   "execution_count": 15,
   "id": "93d3183e-36ee-43a9-a6da-c23a7397214a",
   "metadata": {},
   "outputs": [
    {
     "data": {
      "text/html": [
       "<table class=\"dataframe\">\n",
       "<caption>A data.frame: 6 × 12</caption>\n",
       "<thead>\n",
       "\t<tr><th></th><th scope=col>Study.ID</th><th scope=col>Age.at.diagnosis</th><th scope=col>Sex</th><th scope=col>Race</th><th scope=col>Ethnicity</th><th scope=col>KPS</th><th scope=col>EOR</th><th scope=col>MGMT</th><th scope=col>IDH1</th><th scope=col>Study</th><th scope=col>Survival.months</th><th scope=col>Vital.Status</th></tr>\n",
       "\t<tr><th></th><th scope=col>&lt;chr&gt;</th><th scope=col>&lt;int&gt;</th><th scope=col>&lt;chr&gt;</th><th scope=col>&lt;chr&gt;</th><th scope=col>&lt;chr&gt;</th><th scope=col>&lt;chr&gt;</th><th scope=col>&lt;chr&gt;</th><th scope=col>&lt;chr&gt;</th><th scope=col>&lt;chr&gt;</th><th scope=col>&lt;chr&gt;</th><th scope=col>&lt;dbl&gt;</th><th scope=col>&lt;int&gt;</th></tr>\n",
       "</thead>\n",
       "<tbody>\n",
       "\t<tr><th scope=row>1</th><td>UM001</td><td>58</td><td>Male  </td><td>White</td><td>Non-hispanic</td><td>NA </td><td>Subtotal   </td><td>Unmethylated</td><td>WT</td><td>UM</td><td> 7.081967</td><td>0</td></tr>\n",
       "\t<tr><th scope=row>2</th><td>UM002</td><td>65</td><td>Male  </td><td>White</td><td>Non-hispanic</td><td>70+</td><td>Subtotal   </td><td>Methylated  </td><td>WT</td><td>UM</td><td>16.032787</td><td>0</td></tr>\n",
       "\t<tr><th scope=row>3</th><td>UM003</td><td>84</td><td>Female</td><td>White</td><td>Non-hispanic</td><td>70+</td><td>Biopsy     </td><td>Unmethylated</td><td>WT</td><td>UM</td><td> 2.032787</td><td>1</td></tr>\n",
       "\t<tr><th scope=row>4</th><td>UM004</td><td>65</td><td>Male  </td><td>Other</td><td>Non-hispanic</td><td>70+</td><td>Gross Total</td><td>Unmethylated</td><td>WT</td><td>UM</td><td>16.918033</td><td>0</td></tr>\n",
       "\t<tr><th scope=row>5</th><td>UM005</td><td>49</td><td>Male  </td><td>NA   </td><td>Non-hispanic</td><td>NA </td><td>Gross Total</td><td>Unmethylated</td><td>WT</td><td>UM</td><td>14.524590</td><td>0</td></tr>\n",
       "\t<tr><th scope=row>6</th><td>UM006</td><td>60</td><td>Male  </td><td>White</td><td>Non-hispanic</td><td>70+</td><td>Biopsy     </td><td>NA          </td><td>WT</td><td>UM</td><td>16.852459</td><td>0</td></tr>\n",
       "</tbody>\n",
       "</table>\n"
      ],
      "text/latex": [
       "A data.frame: 6 × 12\n",
       "\\begin{tabular}{r|llllllllllll}\n",
       "  & Study.ID & Age.at.diagnosis & Sex & Race & Ethnicity & KPS & EOR & MGMT & IDH1 & Study & Survival.months & Vital.Status\\\\\n",
       "  & <chr> & <int> & <chr> & <chr> & <chr> & <chr> & <chr> & <chr> & <chr> & <chr> & <dbl> & <int>\\\\\n",
       "\\hline\n",
       "\t1 & UM001 & 58 & Male   & White & Non-hispanic & NA  & Subtotal    & Unmethylated & WT & UM &  7.081967 & 0\\\\\n",
       "\t2 & UM002 & 65 & Male   & White & Non-hispanic & 70+ & Subtotal    & Methylated   & WT & UM & 16.032787 & 0\\\\\n",
       "\t3 & UM003 & 84 & Female & White & Non-hispanic & 70+ & Biopsy      & Unmethylated & WT & UM &  2.032787 & 1\\\\\n",
       "\t4 & UM004 & 65 & Male   & Other & Non-hispanic & 70+ & Gross Total & Unmethylated & WT & UM & 16.918033 & 0\\\\\n",
       "\t5 & UM005 & 49 & Male   & NA    & Non-hispanic & NA  & Gross Total & Unmethylated & WT & UM & 14.524590 & 0\\\\\n",
       "\t6 & UM006 & 60 & Male   & White & Non-hispanic & 70+ & Biopsy      & NA           & WT & UM & 16.852459 & 0\\\\\n",
       "\\end{tabular}\n"
      ],
      "text/markdown": [
       "\n",
       "A data.frame: 6 × 12\n",
       "\n",
       "| <!--/--> | Study.ID &lt;chr&gt; | Age.at.diagnosis &lt;int&gt; | Sex &lt;chr&gt; | Race &lt;chr&gt; | Ethnicity &lt;chr&gt; | KPS &lt;chr&gt; | EOR &lt;chr&gt; | MGMT &lt;chr&gt; | IDH1 &lt;chr&gt; | Study &lt;chr&gt; | Survival.months &lt;dbl&gt; | Vital.Status &lt;int&gt; |\n",
       "|---|---|---|---|---|---|---|---|---|---|---|---|---|\n",
       "| 1 | UM001 | 58 | Male   | White | Non-hispanic | NA  | Subtotal    | Unmethylated | WT | UM |  7.081967 | 0 |\n",
       "| 2 | UM002 | 65 | Male   | White | Non-hispanic | 70+ | Subtotal    | Methylated   | WT | UM | 16.032787 | 0 |\n",
       "| 3 | UM003 | 84 | Female | White | Non-hispanic | 70+ | Biopsy      | Unmethylated | WT | UM |  2.032787 | 1 |\n",
       "| 4 | UM004 | 65 | Male   | Other | Non-hispanic | 70+ | Gross Total | Unmethylated | WT | UM | 16.918033 | 0 |\n",
       "| 5 | UM005 | 49 | Male   | NA    | Non-hispanic | NA  | Gross Total | Unmethylated | WT | UM | 14.524590 | 0 |\n",
       "| 6 | UM006 | 60 | Male   | White | Non-hispanic | 70+ | Biopsy      | NA           | WT | UM | 16.852459 | 0 |\n",
       "\n"
      ],
      "text/plain": [
       "  Study.ID Age.at.diagnosis Sex    Race  Ethnicity    KPS EOR        \n",
       "1 UM001    58               Male   White Non-hispanic NA  Subtotal   \n",
       "2 UM002    65               Male   White Non-hispanic 70+ Subtotal   \n",
       "3 UM003    84               Female White Non-hispanic 70+ Biopsy     \n",
       "4 UM004    65               Male   Other Non-hispanic 70+ Gross Total\n",
       "5 UM005    49               Male   NA    Non-hispanic NA  Gross Total\n",
       "6 UM006    60               Male   White Non-hispanic 70+ Biopsy     \n",
       "  MGMT         IDH1 Study Survival.months Vital.Status\n",
       "1 Unmethylated WT   UM     7.081967       0           \n",
       "2 Methylated   WT   UM    16.032787       0           \n",
       "3 Unmethylated WT   UM     2.032787       1           \n",
       "4 Unmethylated WT   UM    16.918033       0           \n",
       "5 Unmethylated WT   UM    14.524590       0           \n",
       "6 NA           WT   UM    16.852459       0           "
      ]
     },
     "metadata": {},
     "output_type": "display_data"
    }
   ],
   "source": [
    "head(tempus.clin)"
   ]
  },
  {
   "cell_type": "code",
   "execution_count": 16,
   "id": "34f5d29b-079b-4178-92cb-475f7145d2d3",
   "metadata": {},
   "outputs": [],
   "source": [
    "df.m.tempus$SampleIDs <- gsub(\"_\",\" \",df.m.tempus$SampleIDs)\n",
    "tempus.clin.m.cluster <- inner_join(tempus.clin, df.m.tempus[,c(\"SampleIDs\",\"BestCalls\")], by=c(\"Study.ID\" = \"SampleIDs\"))"
   ]
  },
  {
   "cell_type": "code",
   "execution_count": 17,
   "id": "0541d50c-5cfd-4041-aa6a-889371f2354b",
   "metadata": {},
   "outputs": [
    {
     "data": {
      "text/html": [
       "<table class=\"dataframe\">\n",
       "<caption>A data.frame: 5 × 13</caption>\n",
       "<thead>\n",
       "\t<tr><th></th><th scope=col>Study.ID</th><th scope=col>Age.at.diagnosis</th><th scope=col>Sex</th><th scope=col>Race</th><th scope=col>Ethnicity</th><th scope=col>KPS</th><th scope=col>EOR</th><th scope=col>MGMT</th><th scope=col>IDH1</th><th scope=col>Study</th><th scope=col>Survival.months</th><th scope=col>Vital.Status</th><th scope=col>BestCalls</th></tr>\n",
       "\t<tr><th></th><th scope=col>&lt;chr&gt;</th><th scope=col>&lt;int&gt;</th><th scope=col>&lt;chr&gt;</th><th scope=col>&lt;chr&gt;</th><th scope=col>&lt;chr&gt;</th><th scope=col>&lt;chr&gt;</th><th scope=col>&lt;chr&gt;</th><th scope=col>&lt;chr&gt;</th><th scope=col>&lt;chr&gt;</th><th scope=col>&lt;chr&gt;</th><th scope=col>&lt;dbl&gt;</th><th scope=col>&lt;int&gt;</th><th scope=col>&lt;chr&gt;</th></tr>\n",
       "</thead>\n",
       "<tbody>\n",
       "\t<tr><th scope=row>1</th><td>UM001</td><td>58</td><td>Male</td><td>White</td><td>Non-hispanic</td><td>NA </td><td>Subtotal   </td><td>Unmethylated</td><td>WT</td><td>UM</td><td> 7.081967</td><td>0</td><td>cluster1</td></tr>\n",
       "\t<tr><th scope=row>2</th><td>UM002</td><td>65</td><td>Male</td><td>White</td><td>Non-hispanic</td><td>70+</td><td>Subtotal   </td><td>Methylated  </td><td>WT</td><td>UM</td><td>16.032787</td><td>0</td><td>cluster5</td></tr>\n",
       "\t<tr><th scope=row>3</th><td>UM004</td><td>65</td><td>Male</td><td>Other</td><td>Non-hispanic</td><td>70+</td><td>Gross Total</td><td>Unmethylated</td><td>WT</td><td>UM</td><td>16.918033</td><td>0</td><td>cluster3</td></tr>\n",
       "\t<tr><th scope=row>4</th><td>UM005</td><td>49</td><td>Male</td><td>NA   </td><td>Non-hispanic</td><td>NA </td><td>Gross Total</td><td>Unmethylated</td><td>WT</td><td>UM</td><td>14.524590</td><td>0</td><td>cluster3</td></tr>\n",
       "\t<tr><th scope=row>5</th><td>UM006</td><td>60</td><td>Male</td><td>White</td><td>Non-hispanic</td><td>70+</td><td>Biopsy     </td><td>NA          </td><td>WT</td><td>UM</td><td>16.852459</td><td>0</td><td>cluster1</td></tr>\n",
       "</tbody>\n",
       "</table>\n"
      ],
      "text/latex": [
       "A data.frame: 5 × 13\n",
       "\\begin{tabular}{r|lllllllllllll}\n",
       "  & Study.ID & Age.at.diagnosis & Sex & Race & Ethnicity & KPS & EOR & MGMT & IDH1 & Study & Survival.months & Vital.Status & BestCalls\\\\\n",
       "  & <chr> & <int> & <chr> & <chr> & <chr> & <chr> & <chr> & <chr> & <chr> & <chr> & <dbl> & <int> & <chr>\\\\\n",
       "\\hline\n",
       "\t1 & UM001 & 58 & Male & White & Non-hispanic & NA  & Subtotal    & Unmethylated & WT & UM &  7.081967 & 0 & cluster1\\\\\n",
       "\t2 & UM002 & 65 & Male & White & Non-hispanic & 70+ & Subtotal    & Methylated   & WT & UM & 16.032787 & 0 & cluster5\\\\\n",
       "\t3 & UM004 & 65 & Male & Other & Non-hispanic & 70+ & Gross Total & Unmethylated & WT & UM & 16.918033 & 0 & cluster3\\\\\n",
       "\t4 & UM005 & 49 & Male & NA    & Non-hispanic & NA  & Gross Total & Unmethylated & WT & UM & 14.524590 & 0 & cluster3\\\\\n",
       "\t5 & UM006 & 60 & Male & White & Non-hispanic & 70+ & Biopsy      & NA           & WT & UM & 16.852459 & 0 & cluster1\\\\\n",
       "\\end{tabular}\n"
      ],
      "text/markdown": [
       "\n",
       "A data.frame: 5 × 13\n",
       "\n",
       "| <!--/--> | Study.ID &lt;chr&gt; | Age.at.diagnosis &lt;int&gt; | Sex &lt;chr&gt; | Race &lt;chr&gt; | Ethnicity &lt;chr&gt; | KPS &lt;chr&gt; | EOR &lt;chr&gt; | MGMT &lt;chr&gt; | IDH1 &lt;chr&gt; | Study &lt;chr&gt; | Survival.months &lt;dbl&gt; | Vital.Status &lt;int&gt; | BestCalls &lt;chr&gt; |\n",
       "|---|---|---|---|---|---|---|---|---|---|---|---|---|---|\n",
       "| 1 | UM001 | 58 | Male | White | Non-hispanic | NA  | Subtotal    | Unmethylated | WT | UM |  7.081967 | 0 | cluster1 |\n",
       "| 2 | UM002 | 65 | Male | White | Non-hispanic | 70+ | Subtotal    | Methylated   | WT | UM | 16.032787 | 0 | cluster5 |\n",
       "| 3 | UM004 | 65 | Male | Other | Non-hispanic | 70+ | Gross Total | Unmethylated | WT | UM | 16.918033 | 0 | cluster3 |\n",
       "| 4 | UM005 | 49 | Male | NA    | Non-hispanic | NA  | Gross Total | Unmethylated | WT | UM | 14.524590 | 0 | cluster3 |\n",
       "| 5 | UM006 | 60 | Male | White | Non-hispanic | 70+ | Biopsy      | NA           | WT | UM | 16.852459 | 0 | cluster1 |\n",
       "\n"
      ],
      "text/plain": [
       "  Study.ID Age.at.diagnosis Sex  Race  Ethnicity    KPS EOR        \n",
       "1 UM001    58               Male White Non-hispanic NA  Subtotal   \n",
       "2 UM002    65               Male White Non-hispanic 70+ Subtotal   \n",
       "3 UM004    65               Male Other Non-hispanic 70+ Gross Total\n",
       "4 UM005    49               Male NA    Non-hispanic NA  Gross Total\n",
       "5 UM006    60               Male White Non-hispanic 70+ Biopsy     \n",
       "  MGMT         IDH1 Study Survival.months Vital.Status BestCalls\n",
       "1 Unmethylated WT   UM     7.081967       0            cluster1 \n",
       "2 Methylated   WT   UM    16.032787       0            cluster5 \n",
       "3 Unmethylated WT   UM    16.918033       0            cluster3 \n",
       "4 Unmethylated WT   UM    14.524590       0            cluster3 \n",
       "5 NA           WT   UM    16.852459       0            cluster1 "
      ]
     },
     "metadata": {},
     "output_type": "display_data"
    }
   ],
   "source": [
    "tempus.clin.m.cluster[1:5,]"
   ]
  },
  {
   "cell_type": "code",
   "execution_count": 18,
   "id": "1b4cdb5a-369e-4bda-9201-85a6c6151e10",
   "metadata": {},
   "outputs": [
    {
     "data": {
      "text/plain": [
       "Call: survfit(formula = Surv(Survival.months, Vital.Status) ~ BestCalls, \n",
       "    data = tempus.clin.m.cluster)\n",
       "\n",
       "   6 observations deleted due to missingness \n",
       "                    n events median 0.95LCL 0.95UCL\n",
       "BestCalls=cluster1 36     28   18.4    16.2    24.4\n",
       "BestCalls=cluster2 17     12   23.2    16.8      NA\n",
       "BestCalls=cluster3 56     45   19.6    16.6    23.3\n",
       "BestCalls=cluster5 35     27   19.1    15.3    28.3"
      ]
     },
     "metadata": {},
     "output_type": "display_data"
    }
   ],
   "source": [
    "t.m.fit <- survfit(Surv(Survival.months,Vital.Status)~BestCalls,data=tempus.clin.m.cluster)\n",
    "t.m.fit"
   ]
  },
  {
   "cell_type": "code",
   "execution_count": 19,
   "id": "7bd5ab47-2c75-4a19-89bf-ddc57218e7dc",
   "metadata": {},
   "outputs": [
    {
     "data": {
      "image/png": "[encoded data removed]",
      "text/plain": [
       "plot without title"
      ]
     },
     "metadata": {
      "image/png": {
       "height": 420,
       "width": 420
      }
     },
     "output_type": "display_data"
    }
   ],
   "source": [
    "ggsurvplot(t.m.fit, pval = T)"
   ]
  },
  {
   "cell_type": "code",
   "execution_count": 58,
   "id": "424e2446-69e2-46c8-867b-4174d51eb4ae",
   "metadata": {},
   "outputs": [
    {
     "ename": "ERROR",
     "evalue": "Error in `[.data.frame`(tempus.m, , c(\"sample\", pairgenes)): undefined columns selected\n",
     "output_type": "error",
     "traceback": [
      "Error in `[.data.frame`(tempus.m, , c(\"sample\", pairgenes)): undefined columns selected\nTraceback:\n",
      "1. left_join(tempus.m[, c(\"sample\", pairgenes)], df.m.tempus[, c(\"SampleIDs\", \n .     \"BestCalls\")], , by = c(sample = \"SampleIDs\"))",
      "2. tempus.m[, c(\"sample\", pairgenes)]",
      "3. `[.data.frame`(tempus.m, , c(\"sample\", pairgenes))",
      "4. stop(\"undefined columns selected\")"
     ]
    }
   ],
   "source": [
    "tempus.m <- read.csv('../data/version3/Males_Tempus_Test_v3.csv')\n",
    "tempus.m$sample <- gsub(\"_\",\" \",tempus.m$sample)\n",
    "\n",
    "tempus.m.clus <- left_join(tempus.m[,c(\"sample\",pairgenes)],df.m.tempus[,c(\"SampleIDs\",\"BestCalls\")],, by = c(\"sample\" = \"SampleIDs\"))  \n",
    "tempus.m.clus.plot.data <- reshape2::melt(tempus.m.clus, na.rm = FALSE, value.name = \"G.Exp\", id = c('sample','BestCalls'))"
   ]
  },
  {
   "cell_type": "code",
   "execution_count": null,
   "id": "078bd288-5440-4e23-89d2-d363f96eb926",
   "metadata": {},
   "outputs": [],
   "source": [
    "ggplot(data = tempus.m.clus.plot.data, aes(x=BestCalls,y=G.Exp, fill=BestCalls)) +\n",
    "  geom_boxplot() + facet_wrap(~variable)"
   ]
  },
  {
   "cell_type": "code",
   "execution_count": null,
   "id": "949dcaad-3b6d-4c77-8c03-475c86d75756",
   "metadata": {},
   "outputs": [],
   "source": []
  },
  {
   "cell_type": "code",
   "execution_count": null,
   "id": "60f9cb84-3d64-4df5-9955-17a68ce8413c",
   "metadata": {},
   "outputs": [],
   "source": []
  },
  {
   "cell_type": "code",
   "execution_count": null,
   "id": "0cad2889-3f79-4945-a12a-6f631051d848",
   "metadata": {},
   "outputs": [],
   "source": []
  },
  {
   "cell_type": "code",
   "execution_count": null,
   "id": "b9acf23b-82ca-4b67-b05c-6c74755ec02e",
   "metadata": {},
   "outputs": [],
   "source": []
  }
 ],
 "metadata": {
  "environment": {
   "kernel": "ir",
   "name": "r-cpu.4-1.m97",
   "type": "gcloud",
   "uri": "gcr.io/deeplearning-platform-release/r-cpu.4-1:m97"
  },
  "kernelspec": {
   "display_name": "R",
   "language": "R",
   "name": "ir"
  },
  "language_info": {
   "codemirror_mode": "r",
   "file_extension": ".r",
   "mimetype": "text/x-r-source",
   "name": "R",
   "pygments_lexer": "r",
   "version": "4.2.1"
  }
 },
 "nbformat": 4,
 "nbformat_minor": 5
}
